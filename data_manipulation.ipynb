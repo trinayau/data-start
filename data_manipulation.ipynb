{
 "cells": [
  {
   "cell_type": "markdown",
   "id": "ff2b6fd2-945a-40b5-b94d-6674d0405f66",
   "metadata": {
    "tags": []
   },
   "source": [
    "# Data Manipulation\n",
    "\n",
    "This notebook goes through the process of cleaning and analysing data on world plastic waste."
   ]
  },
  {
   "cell_type": "markdown",
   "id": "32e0db4f-a2c0-4400-91d2-0e945fcd338e",
   "metadata": {},
   "source": [
    "## Imports"
   ]
  },
  {
   "cell_type": "code",
   "execution_count": 1,
   "id": "c4fab1a1-7016-4547-849a-029aaa1b647d",
   "metadata": {},
   "outputs": [],
   "source": [
    "import pandas as pd"
   ]
  },
  {
   "cell_type": "markdown",
   "id": "4d1e1b56-be3d-40c8-87b0-927e8df60349",
   "metadata": {},
   "source": [
    "## Data sourcing"
   ]
  },
  {
   "cell_type": "code",
   "execution_count": 2,
   "id": "efbcec50-7496-4e4c-a391-b247f696d7e4",
   "metadata": {},
   "outputs": [
    {
     "name": "stdout",
     "output_type": "stream",
     "text": [
      "Requirement already satisfied: pandas in /Users/trinayau/.local/share/virtualenvs/data-start-4BdIRh-U/lib/python3.10/site-packages (1.4.2)\n",
      "Requirement already satisfied: python-dateutil>=2.8.1 in /Users/trinayau/.local/share/virtualenvs/data-start-4BdIRh-U/lib/python3.10/site-packages (from pandas) (2.8.2)\n",
      "Requirement already satisfied: pytz>=2020.1 in /Users/trinayau/.local/share/virtualenvs/data-start-4BdIRh-U/lib/python3.10/site-packages (from pandas) (2022.1)\n",
      "Requirement already satisfied: numpy>=1.21.0 in /Users/trinayau/.local/share/virtualenvs/data-start-4BdIRh-U/lib/python3.10/site-packages (from pandas) (1.22.4)\n",
      "Requirement already satisfied: six>=1.5 in /Users/trinayau/.local/share/virtualenvs/data-start-4BdIRh-U/lib/python3.10/site-packages (from python-dateutil>=2.8.1->pandas) (1.16.0)\n",
      "Note: you may need to restart the kernel to use updated packages.\n"
     ]
    }
   ],
   "source": [
    "pip install pandas"
   ]
  },
  {
   "cell_type": "code",
   "execution_count": 3,
   "id": "059003e7-c020-48fe-8225-d50e6290b8d9",
   "metadata": {},
   "outputs": [],
   "source": [
    "country_data = pd.read_csv('./data/plastics.csv')"
   ]
  },
  {
   "cell_type": "code",
   "execution_count": 4,
   "id": "888dc4fe-4435-47c4-a63e-054e1e3c6066",
   "metadata": {},
   "outputs": [
    {
     "data": {
      "text/html": [
       "<div>\n",
       "<style scoped>\n",
       "    .dataframe tbody tr th:only-of-type {\n",
       "        vertical-align: middle;\n",
       "    }\n",
       "\n",
       "    .dataframe tbody tr th {\n",
       "        vertical-align: top;\n",
       "    }\n",
       "\n",
       "    .dataframe thead th {\n",
       "        text-align: right;\n",
       "    }\n",
       "</style>\n",
       "<table border=\"1\" class=\"dataframe\">\n",
       "  <thead>\n",
       "    <tr style=\"text-align: right;\">\n",
       "      <th></th>\n",
       "      <th>variables</th>\n",
       "      <th>code</th>\n",
       "      <th>PCapita plastic waste (kg per person per day)</th>\n",
       "      <th>gdp_pc</th>\n",
       "      <th>otalpopulatio</th>\n",
       "      <th>year</th>\n",
       "      <th>Mismanaged plastic waste (tonnes)</th>\n",
       "      <th>coastal_pop</th>\n",
       "      <th>variables.1</th>\n",
       "    </tr>\n",
       "  </thead>\n",
       "  <tbody>\n",
       "    <tr>\n",
       "      <th>0</th>\n",
       "      <td>Albania</td>\n",
       "      <td>ALB</td>\n",
       "      <td>0.069</td>\n",
       "      <td>$9927.18184117512</td>\n",
       "      <td>3204284</td>\n",
       "      <td>2011</td>\n",
       "      <td>29705</td>\n",
       "      <td>2530533</td>\n",
       "      <td>Albania</td>\n",
       "    </tr>\n",
       "  </tbody>\n",
       "</table>\n",
       "</div>"
      ],
      "text/plain": [
       "  variables code  PCapita plastic waste (kg per person per day)  \\\n",
       "0   Albania  ALB                                          0.069   \n",
       "\n",
       "              gdp_pc otalpopulatio  year  Mismanaged plastic waste (tonnes)  \\\n",
       "0  $9927.18184117512       3204284  2011                              29705   \n",
       "\n",
       "   coastal_pop variables.1  \n",
       "0      2530533     Albania  "
      ]
     },
     "execution_count": 4,
     "metadata": {},
     "output_type": "execute_result"
    }
   ],
   "source": [
    "# Show the first rows of the dataframe (default 5)\n",
    "\n",
    "country_data.head(1)"
   ]
  },
  {
   "cell_type": "code",
   "execution_count": 5,
   "id": "1bf3a914-c8ab-4c5c-b7d4-2bb668b0b416",
   "metadata": {},
   "outputs": [
    {
     "data": {
      "text/html": [
       "<div>\n",
       "<style scoped>\n",
       "    .dataframe tbody tr th:only-of-type {\n",
       "        vertical-align: middle;\n",
       "    }\n",
       "\n",
       "    .dataframe tbody tr th {\n",
       "        vertical-align: top;\n",
       "    }\n",
       "\n",
       "    .dataframe thead th {\n",
       "        text-align: right;\n",
       "    }\n",
       "</style>\n",
       "<table border=\"1\" class=\"dataframe\">\n",
       "  <thead>\n",
       "    <tr style=\"text-align: right;\">\n",
       "      <th></th>\n",
       "      <th>variables</th>\n",
       "      <th>code</th>\n",
       "      <th>PCapita plastic waste (kg per person per day)</th>\n",
       "      <th>gdp_pc</th>\n",
       "      <th>otalpopulatio</th>\n",
       "      <th>year</th>\n",
       "      <th>Mismanaged plastic waste (tonnes)</th>\n",
       "      <th>coastal_pop</th>\n",
       "      <th>variables.1</th>\n",
       "    </tr>\n",
       "  </thead>\n",
       "  <tbody>\n",
       "    <tr>\n",
       "      <th>184</th>\n",
       "      <td>Vietnam</td>\n",
       "      <td>VNM</td>\n",
       "      <td>0.103</td>\n",
       "      <td>$4408.16861192198</td>\n",
       "      <td>87848445</td>\n",
       "      <td>2011</td>\n",
       "      <td>1833819</td>\n",
       "      <td>55858245</td>\n",
       "      <td>Vietnam</td>\n",
       "    </tr>\n",
       "    <tr>\n",
       "      <th>185</th>\n",
       "      <td>Yemen</td>\n",
       "      <td>YEM</td>\n",
       "      <td>0.103</td>\n",
       "      <td>$4478.7435991429</td>\n",
       "      <td>NOT KNOWN</td>\n",
       "      <td>2011</td>\n",
       "      <td>169181</td>\n",
       "      <td>6048920</td>\n",
       "      <td>Yemen</td>\n",
       "    </tr>\n",
       "  </tbody>\n",
       "</table>\n",
       "</div>"
      ],
      "text/plain": [
       "    variables code  PCapita plastic waste (kg per person per day)  \\\n",
       "184   Vietnam  VNM                                          0.103   \n",
       "185     Yemen  YEM                                          0.103   \n",
       "\n",
       "                gdp_pc otalpopulatio  year  Mismanaged plastic waste (tonnes)  \\\n",
       "184  $4408.16861192198      87848445  2011                            1833819   \n",
       "185   $4478.7435991429     NOT KNOWN  2011                             169181   \n",
       "\n",
       "     coastal_pop variables.1  \n",
       "184     55858245     Vietnam  \n",
       "185      6048920       Yemen  "
      ]
     },
     "execution_count": 5,
     "metadata": {},
     "output_type": "execute_result"
    }
   ],
   "source": [
    "# Show the last rows of the dataframe (default 5)\n",
    "\n",
    "country_data.tail(2)"
   ]
  },
  {
   "cell_type": "code",
   "execution_count": 6,
   "id": "cf4c4b3c-4871-4e2d-8f8c-d73c29048ed8",
   "metadata": {},
   "outputs": [
    {
     "data": {
      "text/html": [
       "<div>\n",
       "<style scoped>\n",
       "    .dataframe tbody tr th:only-of-type {\n",
       "        vertical-align: middle;\n",
       "    }\n",
       "\n",
       "    .dataframe tbody tr th {\n",
       "        vertical-align: top;\n",
       "    }\n",
       "\n",
       "    .dataframe thead th {\n",
       "        text-align: right;\n",
       "    }\n",
       "</style>\n",
       "<table border=\"1\" class=\"dataframe\">\n",
       "  <thead>\n",
       "    <tr style=\"text-align: right;\">\n",
       "      <th></th>\n",
       "      <th>variables</th>\n",
       "      <th>code</th>\n",
       "      <th>PCapita plastic waste (kg per person per day)</th>\n",
       "      <th>gdp_pc</th>\n",
       "      <th>otalpopulatio</th>\n",
       "      <th>year</th>\n",
       "      <th>Mismanaged plastic waste (tonnes)</th>\n",
       "      <th>coastal_pop</th>\n",
       "      <th>variables.1</th>\n",
       "    </tr>\n",
       "  </thead>\n",
       "  <tbody>\n",
       "    <tr>\n",
       "      <th>10</th>\n",
       "      <td>Bangladesh</td>\n",
       "      <td>BGD</td>\n",
       "      <td>0.034</td>\n",
       "      <td>$2442.72888765696</td>\n",
       "      <td>148692131</td>\n",
       "      <td>2011</td>\n",
       "      <td>787327</td>\n",
       "      <td>70874124</td>\n",
       "      <td>Bangladesh</td>\n",
       "    </tr>\n",
       "    <tr>\n",
       "      <th>152</th>\n",
       "      <td>Sierra Leone</td>\n",
       "      <td>SLE</td>\n",
       "      <td>0.041</td>\n",
       "      <td>$1199.98985027502</td>\n",
       "      <td>5867536</td>\n",
       "      <td>2011</td>\n",
       "      <td>36408</td>\n",
       "      <td>2887017</td>\n",
       "      <td>Sierra Leone</td>\n",
       "    </tr>\n",
       "  </tbody>\n",
       "</table>\n",
       "</div>"
      ],
      "text/plain": [
       "        variables code  PCapita plastic waste (kg per person per day)  \\\n",
       "10     Bangladesh  BGD                                          0.034   \n",
       "152  Sierra Leone  SLE                                          0.041   \n",
       "\n",
       "                gdp_pc otalpopulatio  year  Mismanaged plastic waste (tonnes)  \\\n",
       "10   $2442.72888765696     148692131  2011                             787327   \n",
       "152  $1199.98985027502       5867536  2011                              36408   \n",
       "\n",
       "     coastal_pop   variables.1  \n",
       "10      70874124    Bangladesh  \n",
       "152      2887017  Sierra Leone  "
      ]
     },
     "execution_count": 6,
     "metadata": {},
     "output_type": "execute_result"
    }
   ],
   "source": [
    "# Show a random row and it defaults to 1\n",
    "\n",
    "country_data.sample(2)"
   ]
  },
  {
   "cell_type": "code",
   "execution_count": 7,
   "id": "bebbcf63-1c8e-4bdd-a20a-d08419dc4fdf",
   "metadata": {},
   "outputs": [
    {
     "data": {
      "text/plain": [
       "pandas.core.frame.DataFrame"
      ]
     },
     "execution_count": 7,
     "metadata": {},
     "output_type": "execute_result"
    }
   ],
   "source": [
    "# Check the type - there is a data frame structure that lives inside pandas\n",
    "\n",
    "type(country_data)"
   ]
  },
  {
   "cell_type": "markdown",
   "id": "609ce084-3ac3-4ea0-a3d6-3d97c12140c1",
   "metadata": {},
   "source": [
    "# Data cleaning"
   ]
  },
  {
   "cell_type": "markdown",
   "id": "db768d25-97e9-4547-a638-72eaa2e51e77",
   "metadata": {},
   "source": [
    "### Fixing Columns"
   ]
  },
  {
   "cell_type": "code",
   "execution_count": 8,
   "id": "e664d382-3654-45ce-9bf2-61421b51b976",
   "metadata": {},
   "outputs": [
    {
     "data": {
      "text/plain": [
       "Index(['variables', 'code', 'PCapita plastic waste (kg per person per day)',\n",
       "       'gdp_pc', 'otalpopulatio', 'year', 'Mismanaged plastic waste (tonnes)',\n",
       "       'coastal_pop', 'variables.1'],\n",
       "      dtype='object')"
      ]
     },
     "execution_count": 8,
     "metadata": {},
     "output_type": "execute_result"
    }
   ],
   "source": [
    "country_data.columns"
   ]
  },
  {
   "cell_type": "markdown",
   "id": "395d4f62-5220-4b30-896e-0481eef9093d",
   "metadata": {},
   "source": [
    "**By default, pandas always edits a copy of your data. Overwrite it to keep the changes.**"
   ]
  },
  {
   "cell_type": "code",
   "execution_count": 9,
   "id": "18b1321a-5a1b-4adc-a095-9a0b69e908d5",
   "metadata": {},
   "outputs": [],
   "source": [
    "country_data = country_data.rename(columns={\n",
    "    \"variables\": \"country\",\n",
    "    \"PCapita plastic waste (kg per person per day)\": \"plastic_pc\",\n",
    "    \"otalpopulatio\": \"total_pop\",\n",
    "    \"Mismanaged plastic waste (tonnes)\": \"plastic_mm\"\n",
    "})"
   ]
  },
  {
   "cell_type": "markdown",
   "id": "3468b919-8cd9-430c-b416-409a0503333e",
   "metadata": {},
   "source": [
    "### Drop unwanted columns"
   ]
  },
  {
   "cell_type": "code",
   "execution_count": 10,
   "id": "379d4000-0777-48a8-8b92-73eaa773a7e7",
   "metadata": {},
   "outputs": [
    {
     "data": {
      "text/plain": [
       "2011    186\n",
       "Name: year, dtype: int64"
      ]
     },
     "execution_count": 10,
     "metadata": {},
     "output_type": "execute_result"
    }
   ],
   "source": [
    "country_data[\"year\"].value_counts()"
   ]
  },
  {
   "cell_type": "code",
   "execution_count": 11,
   "id": "82675b8d-a72a-4b0b-8917-1ae9e9e922b3",
   "metadata": {},
   "outputs": [
    {
     "data": {
      "text/plain": [
       "186"
      ]
     },
     "execution_count": 11,
     "metadata": {},
     "output_type": "execute_result"
    }
   ],
   "source": [
    "(country_data[\"country\"] == country_data[\"variables.1\"]).sum()"
   ]
  },
  {
   "cell_type": "code",
   "execution_count": 12,
   "id": "de7a10bf-0478-41ec-9592-1a06ac906ab6",
   "metadata": {},
   "outputs": [],
   "source": [
    "country_data = country_data.drop([\"variables.1\", \"year\"], axis=1)"
   ]
  },
  {
   "cell_type": "code",
   "execution_count": 13,
   "id": "9fb0011b-2ac5-4fe3-b0f3-849115809cd3",
   "metadata": {},
   "outputs": [
    {
     "data": {
      "text/html": [
       "<div>\n",
       "<style scoped>\n",
       "    .dataframe tbody tr th:only-of-type {\n",
       "        vertical-align: middle;\n",
       "    }\n",
       "\n",
       "    .dataframe tbody tr th {\n",
       "        vertical-align: top;\n",
       "    }\n",
       "\n",
       "    .dataframe thead th {\n",
       "        text-align: right;\n",
       "    }\n",
       "</style>\n",
       "<table border=\"1\" class=\"dataframe\">\n",
       "  <thead>\n",
       "    <tr style=\"text-align: right;\">\n",
       "      <th></th>\n",
       "      <th>country</th>\n",
       "      <th>code</th>\n",
       "      <th>plastic_pc</th>\n",
       "      <th>gdp_pc</th>\n",
       "      <th>total_pop</th>\n",
       "      <th>plastic_mm</th>\n",
       "      <th>coastal_pop</th>\n",
       "    </tr>\n",
       "  </thead>\n",
       "  <tbody>\n",
       "    <tr>\n",
       "      <th>55</th>\n",
       "      <td>Finland</td>\n",
       "      <td>FIN</td>\n",
       "      <td>0.234</td>\n",
       "      <td>$39848.1344978775</td>\n",
       "      <td>5364546</td>\n",
       "      <td>4985</td>\n",
       "      <td>2927674</td>\n",
       "    </tr>\n",
       "  </tbody>\n",
       "</table>\n",
       "</div>"
      ],
      "text/plain": [
       "    country code  plastic_pc             gdp_pc total_pop  plastic_mm  \\\n",
       "55  Finland  FIN       0.234  $39848.1344978775   5364546        4985   \n",
       "\n",
       "    coastal_pop  \n",
       "55      2927674  "
      ]
     },
     "execution_count": 13,
     "metadata": {},
     "output_type": "execute_result"
    }
   ],
   "source": [
    "country_data.sample()"
   ]
  },
  {
   "cell_type": "markdown",
   "id": "b59f090d-6845-45c3-bbb3-f63e44b1f2da",
   "metadata": {},
   "source": [
    "### Types"
   ]
  },
  {
   "cell_type": "code",
   "execution_count": 14,
   "id": "31392229-0f64-4966-9a87-eebcc9ad4061",
   "metadata": {},
   "outputs": [
    {
     "data": {
      "text/plain": [
       "country         object\n",
       "code            object\n",
       "plastic_pc     float64\n",
       "gdp_pc          object\n",
       "total_pop       object\n",
       "plastic_mm       int64\n",
       "coastal_pop      int64\n",
       "dtype: object"
      ]
     },
     "execution_count": 14,
     "metadata": {},
     "output_type": "execute_result"
    }
   ],
   "source": [
    "country_data.dtypes"
   ]
  },
  {
   "cell_type": "code",
   "execution_count": 15,
   "id": "70821721-215c-4be7-849b-26638bab550a",
   "metadata": {},
   "outputs": [
    {
     "data": {
      "text/plain": [
       "0        3204284\n",
       "1       35468208\n",
       "2       19081912\n",
       "3          15358\n",
       "4          88710\n",
       "         ...    \n",
       "181      3368786\n",
       "182       239651\n",
       "183     28979857\n",
       "184     87848445\n",
       "185    NOT KNOWN\n",
       "Name: total_pop, Length: 186, dtype: object"
      ]
     },
     "execution_count": 15,
     "metadata": {},
     "output_type": "execute_result"
    }
   ],
   "source": [
    "country_data[\"total_pop\"]"
   ]
  },
  {
   "cell_type": "code",
   "execution_count": 16,
   "id": "7187e308-6bf5-4eae-8a67-24c4e38bdef9",
   "metadata": {},
   "outputs": [
    {
     "data": {
      "text/plain": [
       "0       $9927.18184117512\n",
       "1       $12870.6026985154\n",
       "2      $5897.682840598482\n",
       "3                     NaN\n",
       "4       $19212.7201307541\n",
       "              ...        \n",
       "181     $17082.4046586765\n",
       "182     $2948.03293729183\n",
       "183     $16544.9720552598\n",
       "184     $4408.16861192198\n",
       "185      $4478.7435991429\n",
       "Name: gdp_pc, Length: 186, dtype: object"
      ]
     },
     "execution_count": 16,
     "metadata": {},
     "output_type": "execute_result"
    }
   ],
   "source": [
    "country_data[\"gdp_pc\"]"
   ]
  },
  {
   "cell_type": "code",
   "execution_count": 17,
   "id": "a83c9cfa-7ede-426d-bb5e-8be30288507f",
   "metadata": {},
   "outputs": [],
   "source": [
    "# Filtering out any row with 'NOT KNOWN' in the total_pop column\n",
    "\n",
    "not_known_filter = country_data[\"total_pop\"] != \"NOT KNOWN\"\n",
    "\n",
    "country_data = country_data[not_known_filter]"
   ]
  },
  {
   "cell_type": "code",
   "execution_count": 18,
   "id": "2f17bd3a-82b2-45bf-8b24-7f3e01d50e94",
   "metadata": {},
   "outputs": [],
   "source": [
    "# Filter out any row with a NaN value\n",
    "\n",
    "country_data = country_data.dropna()"
   ]
  },
  {
   "cell_type": "code",
   "execution_count": 21,
   "id": "ab1d26b6-da12-420c-b66b-4edaaf03393b",
   "metadata": {},
   "outputs": [
    {
     "data": {
      "text/plain": [
       "(145, 7)"
      ]
     },
     "execution_count": 21,
     "metadata": {},
     "output_type": "execute_result"
    }
   ],
   "source": [
    "country_data.shape"
   ]
  },
  {
   "cell_type": "code",
   "execution_count": 22,
   "id": "2e4e464f-b46f-48b1-b74b-4d9397aaa808",
   "metadata": {},
   "outputs": [
    {
     "data": {
      "text/html": [
       "<div>\n",
       "<style scoped>\n",
       "    .dataframe tbody tr th:only-of-type {\n",
       "        vertical-align: middle;\n",
       "    }\n",
       "\n",
       "    .dataframe tbody tr th {\n",
       "        vertical-align: top;\n",
       "    }\n",
       "\n",
       "    .dataframe thead th {\n",
       "        text-align: right;\n",
       "    }\n",
       "</style>\n",
       "<table border=\"1\" class=\"dataframe\">\n",
       "  <thead>\n",
       "    <tr style=\"text-align: right;\">\n",
       "      <th></th>\n",
       "      <th>country</th>\n",
       "      <th>code</th>\n",
       "      <th>plastic_pc</th>\n",
       "      <th>gdp_pc</th>\n",
       "      <th>total_pop</th>\n",
       "      <th>plastic_mm</th>\n",
       "      <th>coastal_pop</th>\n",
       "    </tr>\n",
       "  </thead>\n",
       "  <tbody>\n",
       "    <tr>\n",
       "      <th>0</th>\n",
       "      <td>Albania</td>\n",
       "      <td>ALB</td>\n",
       "      <td>0.069</td>\n",
       "      <td>$9927.18184117512</td>\n",
       "      <td>3204284</td>\n",
       "      <td>29705</td>\n",
       "      <td>2530533</td>\n",
       "    </tr>\n",
       "    <tr>\n",
       "      <th>1</th>\n",
       "      <td>Algeria</td>\n",
       "      <td>DZA</td>\n",
       "      <td>0.144</td>\n",
       "      <td>$12870.6026985154</td>\n",
       "      <td>35468208</td>\n",
       "      <td>520555</td>\n",
       "      <td>16556580</td>\n",
       "    </tr>\n",
       "    <tr>\n",
       "      <th>2</th>\n",
       "      <td>Angola</td>\n",
       "      <td>AGO</td>\n",
       "      <td>0.062</td>\n",
       "      <td>$5897.682840598482</td>\n",
       "      <td>19081912</td>\n",
       "      <td>62528</td>\n",
       "      <td>3790041</td>\n",
       "    </tr>\n",
       "    <tr>\n",
       "      <th>4</th>\n",
       "      <td>Antigua and Barbuda</td>\n",
       "      <td>ATG</td>\n",
       "      <td>0.660</td>\n",
       "      <td>$19212.7201307541</td>\n",
       "      <td>88710</td>\n",
       "      <td>1253</td>\n",
       "      <td>66843</td>\n",
       "    </tr>\n",
       "    <tr>\n",
       "      <th>5</th>\n",
       "      <td>Argentina</td>\n",
       "      <td>ARG</td>\n",
       "      <td>0.183</td>\n",
       "      <td>$18712.063077343602</td>\n",
       "      <td>40412376</td>\n",
       "      <td>157777</td>\n",
       "      <td>16449245</td>\n",
       "    </tr>\n",
       "  </tbody>\n",
       "</table>\n",
       "</div>"
      ],
      "text/plain": [
       "               country code  plastic_pc               gdp_pc total_pop  \\\n",
       "0              Albania  ALB       0.069    $9927.18184117512   3204284   \n",
       "1              Algeria  DZA       0.144    $12870.6026985154  35468208   \n",
       "2               Angola  AGO       0.062   $5897.682840598482  19081912   \n",
       "4  Antigua and Barbuda  ATG       0.660    $19212.7201307541     88710   \n",
       "5            Argentina  ARG       0.183  $18712.063077343602  40412376   \n",
       "\n",
       "   plastic_mm  coastal_pop  \n",
       "0       29705      2530533  \n",
       "1      520555     16556580  \n",
       "2       62528      3790041  \n",
       "4        1253        66843  \n",
       "5      157777     16449245  "
      ]
     },
     "execution_count": 22,
     "metadata": {},
     "output_type": "execute_result"
    }
   ],
   "source": [
    "country_data.head()"
   ]
  },
  {
   "cell_type": "markdown",
   "id": "da9f3b90-34be-4270-9eaf-aa76e6b9a1b0",
   "metadata": {},
   "source": [
    "### String stuff"
   ]
  },
  {
   "cell_type": "code",
   "execution_count": 26,
   "id": "cd72ff55-cbca-4966-8c31-2eee04d8b653",
   "metadata": {},
   "outputs": [],
   "source": [
    "country_data[\"gdp_pc\"] = country_data[\"gdp_pc\"].str.replace(\"$\", \"\", regex=False)"
   ]
  },
  {
   "cell_type": "markdown",
   "id": "582eaa7e-4768-49e8-b583-fa2e8da61b37",
   "metadata": {},
   "source": [
    "## Changing types"
   ]
  },
  {
   "cell_type": "code",
   "execution_count": 28,
   "id": "7939dec1-8f13-4517-85a6-2f7f40c694c6",
   "metadata": {},
   "outputs": [
    {
     "data": {
      "text/plain": [
       "country         object\n",
       "code            object\n",
       "plastic_pc     float64\n",
       "gdp_pc          object\n",
       "total_pop       object\n",
       "plastic_mm       int64\n",
       "coastal_pop      int64\n",
       "dtype: object"
      ]
     },
     "execution_count": 28,
     "metadata": {},
     "output_type": "execute_result"
    }
   ],
   "source": [
    "country_data.dtypes"
   ]
  },
  {
   "cell_type": "code",
   "execution_count": 29,
   "id": "18318025-1365-45f8-ab27-718f010a926b",
   "metadata": {},
   "outputs": [],
   "source": [
    "country_data[\"gdp_pc\"] = pd.to_numeric(country_data[\"gdp_pc\"])\n",
    "country_data[\"total_pop\"] = pd.to_numeric(country_data[\"total_pop\"])"
   ]
  },
  {
   "cell_type": "code",
   "execution_count": 30,
   "id": "a0df3c0d-7520-41d4-820e-53479555a345",
   "metadata": {},
   "outputs": [
    {
     "data": {
      "text/plain": [
       "country         object\n",
       "code            object\n",
       "plastic_pc     float64\n",
       "gdp_pc         float64\n",
       "total_pop        int64\n",
       "plastic_mm       int64\n",
       "coastal_pop      int64\n",
       "dtype: object"
      ]
     },
     "execution_count": 30,
     "metadata": {},
     "output_type": "execute_result"
    }
   ],
   "source": [
    "country_data.dtypes"
   ]
  },
  {
   "cell_type": "code",
   "execution_count": 31,
   "id": "2360cbe9-13ff-4080-a99b-514bb174eb9c",
   "metadata": {},
   "outputs": [
    {
     "data": {
      "text/html": [
       "<div>\n",
       "<style scoped>\n",
       "    .dataframe tbody tr th:only-of-type {\n",
       "        vertical-align: middle;\n",
       "    }\n",
       "\n",
       "    .dataframe tbody tr th {\n",
       "        vertical-align: top;\n",
       "    }\n",
       "\n",
       "    .dataframe thead th {\n",
       "        text-align: right;\n",
       "    }\n",
       "</style>\n",
       "<table border=\"1\" class=\"dataframe\">\n",
       "  <thead>\n",
       "    <tr style=\"text-align: right;\">\n",
       "      <th></th>\n",
       "      <th>country</th>\n",
       "      <th>code</th>\n",
       "      <th>plastic_pc</th>\n",
       "      <th>gdp_pc</th>\n",
       "      <th>total_pop</th>\n",
       "      <th>plastic_mm</th>\n",
       "      <th>coastal_pop</th>\n",
       "    </tr>\n",
       "  </thead>\n",
       "  <tbody>\n",
       "    <tr>\n",
       "      <th>0</th>\n",
       "      <td>Albania</td>\n",
       "      <td>ALB</td>\n",
       "      <td>0.069</td>\n",
       "      <td>9927.181841</td>\n",
       "      <td>3204284</td>\n",
       "      <td>29705</td>\n",
       "      <td>2530533</td>\n",
       "    </tr>\n",
       "    <tr>\n",
       "      <th>1</th>\n",
       "      <td>Algeria</td>\n",
       "      <td>DZA</td>\n",
       "      <td>0.144</td>\n",
       "      <td>12870.602699</td>\n",
       "      <td>35468208</td>\n",
       "      <td>520555</td>\n",
       "      <td>16556580</td>\n",
       "    </tr>\n",
       "    <tr>\n",
       "      <th>2</th>\n",
       "      <td>Angola</td>\n",
       "      <td>AGO</td>\n",
       "      <td>0.062</td>\n",
       "      <td>5897.682841</td>\n",
       "      <td>19081912</td>\n",
       "      <td>62528</td>\n",
       "      <td>3790041</td>\n",
       "    </tr>\n",
       "    <tr>\n",
       "      <th>4</th>\n",
       "      <td>Antigua and Barbuda</td>\n",
       "      <td>ATG</td>\n",
       "      <td>0.660</td>\n",
       "      <td>19212.720131</td>\n",
       "      <td>88710</td>\n",
       "      <td>1253</td>\n",
       "      <td>66843</td>\n",
       "    </tr>\n",
       "    <tr>\n",
       "      <th>5</th>\n",
       "      <td>Argentina</td>\n",
       "      <td>ARG</td>\n",
       "      <td>0.183</td>\n",
       "      <td>18712.063077</td>\n",
       "      <td>40412376</td>\n",
       "      <td>157777</td>\n",
       "      <td>16449245</td>\n",
       "    </tr>\n",
       "  </tbody>\n",
       "</table>\n",
       "</div>"
      ],
      "text/plain": [
       "               country code  plastic_pc        gdp_pc  total_pop  plastic_mm  \\\n",
       "0              Albania  ALB       0.069   9927.181841    3204284       29705   \n",
       "1              Algeria  DZA       0.144  12870.602699   35468208      520555   \n",
       "2               Angola  AGO       0.062   5897.682841   19081912       62528   \n",
       "4  Antigua and Barbuda  ATG       0.660  19212.720131      88710        1253   \n",
       "5            Argentina  ARG       0.183  18712.063077   40412376      157777   \n",
       "\n",
       "   coastal_pop  \n",
       "0      2530533  \n",
       "1     16556580  \n",
       "2      3790041  \n",
       "4        66843  \n",
       "5     16449245  "
      ]
     },
     "execution_count": 31,
     "metadata": {},
     "output_type": "execute_result"
    }
   ],
   "source": [
    "country_data.head()"
   ]
  },
  {
   "cell_type": "code",
   "execution_count": 32,
   "id": "b5f0ca61-ef7f-4442-af9e-89a6b269ea03",
   "metadata": {},
   "outputs": [],
   "source": [
    "country_data[\"gdp_pc\"] = country_data[\"gdp_pc\"].round(2)"
   ]
  },
  {
   "cell_type": "code",
   "execution_count": 33,
   "id": "df14494f-8e7e-4b13-b899-e0cada85f2ce",
   "metadata": {},
   "outputs": [
    {
     "data": {
      "text/html": [
       "<div>\n",
       "<style scoped>\n",
       "    .dataframe tbody tr th:only-of-type {\n",
       "        vertical-align: middle;\n",
       "    }\n",
       "\n",
       "    .dataframe tbody tr th {\n",
       "        vertical-align: top;\n",
       "    }\n",
       "\n",
       "    .dataframe thead th {\n",
       "        text-align: right;\n",
       "    }\n",
       "</style>\n",
       "<table border=\"1\" class=\"dataframe\">\n",
       "  <thead>\n",
       "    <tr style=\"text-align: right;\">\n",
       "      <th></th>\n",
       "      <th>country</th>\n",
       "      <th>code</th>\n",
       "      <th>plastic_pc</th>\n",
       "      <th>gdp_pc</th>\n",
       "      <th>total_pop</th>\n",
       "      <th>plastic_mm</th>\n",
       "      <th>coastal_pop</th>\n",
       "    </tr>\n",
       "  </thead>\n",
       "  <tbody>\n",
       "    <tr>\n",
       "      <th>0</th>\n",
       "      <td>Albania</td>\n",
       "      <td>ALB</td>\n",
       "      <td>0.069</td>\n",
       "      <td>9927.18</td>\n",
       "      <td>3204284</td>\n",
       "      <td>29705</td>\n",
       "      <td>2530533</td>\n",
       "    </tr>\n",
       "    <tr>\n",
       "      <th>1</th>\n",
       "      <td>Algeria</td>\n",
       "      <td>DZA</td>\n",
       "      <td>0.144</td>\n",
       "      <td>12870.60</td>\n",
       "      <td>35468208</td>\n",
       "      <td>520555</td>\n",
       "      <td>16556580</td>\n",
       "    </tr>\n",
       "    <tr>\n",
       "      <th>2</th>\n",
       "      <td>Angola</td>\n",
       "      <td>AGO</td>\n",
       "      <td>0.062</td>\n",
       "      <td>5897.68</td>\n",
       "      <td>19081912</td>\n",
       "      <td>62528</td>\n",
       "      <td>3790041</td>\n",
       "    </tr>\n",
       "    <tr>\n",
       "      <th>4</th>\n",
       "      <td>Antigua and Barbuda</td>\n",
       "      <td>ATG</td>\n",
       "      <td>0.660</td>\n",
       "      <td>19212.72</td>\n",
       "      <td>88710</td>\n",
       "      <td>1253</td>\n",
       "      <td>66843</td>\n",
       "    </tr>\n",
       "    <tr>\n",
       "      <th>5</th>\n",
       "      <td>Argentina</td>\n",
       "      <td>ARG</td>\n",
       "      <td>0.183</td>\n",
       "      <td>18712.06</td>\n",
       "      <td>40412376</td>\n",
       "      <td>157777</td>\n",
       "      <td>16449245</td>\n",
       "    </tr>\n",
       "  </tbody>\n",
       "</table>\n",
       "</div>"
      ],
      "text/plain": [
       "               country code  plastic_pc    gdp_pc  total_pop  plastic_mm  \\\n",
       "0              Albania  ALB       0.069   9927.18    3204284       29705   \n",
       "1              Algeria  DZA       0.144  12870.60   35468208      520555   \n",
       "2               Angola  AGO       0.062   5897.68   19081912       62528   \n",
       "4  Antigua and Barbuda  ATG       0.660  19212.72      88710        1253   \n",
       "5            Argentina  ARG       0.183  18712.06   40412376      157777   \n",
       "\n",
       "   coastal_pop  \n",
       "0      2530533  \n",
       "1     16556580  \n",
       "2      3790041  \n",
       "4        66843  \n",
       "5     16449245  "
      ]
     },
     "execution_count": 33,
     "metadata": {},
     "output_type": "execute_result"
    }
   ],
   "source": [
    "country_data.head()"
   ]
  },
  {
   "cell_type": "code",
   "execution_count": 35,
   "id": "18a8fdec-dcca-4559-8ec0-abe8f959811e",
   "metadata": {},
   "outputs": [],
   "source": [
    "country_data.to_csv(\"./data/clean_plastics.csv\", index=False)"
   ]
  },
  {
   "cell_type": "markdown",
   "id": "def5a8f8-b9c3-426e-8c1e-c069c4281963",
   "metadata": {},
   "source": [
    "## Summarisation"
   ]
  },
  {
   "cell_type": "code",
   "execution_count": 37,
   "id": "4ce85eec-4800-4561-b2ce-f4d764942470",
   "metadata": {},
   "outputs": [
    {
     "data": {
      "text/html": [
       "<div>\n",
       "<style scoped>\n",
       "    .dataframe tbody tr th:only-of-type {\n",
       "        vertical-align: middle;\n",
       "    }\n",
       "\n",
       "    .dataframe tbody tr th {\n",
       "        vertical-align: top;\n",
       "    }\n",
       "\n",
       "    .dataframe thead th {\n",
       "        text-align: right;\n",
       "    }\n",
       "</style>\n",
       "<table border=\"1\" class=\"dataframe\">\n",
       "  <thead>\n",
       "    <tr style=\"text-align: right;\">\n",
       "      <th></th>\n",
       "      <th>plastic_pc</th>\n",
       "      <th>gdp_pc</th>\n",
       "      <th>total_pop</th>\n",
       "      <th>plastic_mm</th>\n",
       "      <th>coastal_pop</th>\n",
       "    </tr>\n",
       "  </thead>\n",
       "  <tbody>\n",
       "    <tr>\n",
       "      <th>count</th>\n",
       "      <td>145.000000</td>\n",
       "      <td>145.000000</td>\n",
       "      <td>1.450000e+02</td>\n",
       "      <td>1.450000e+02</td>\n",
       "      <td>1.450000e+02</td>\n",
       "    </tr>\n",
       "    <tr>\n",
       "      <th>mean</th>\n",
       "      <td>0.197503</td>\n",
       "      <td>19240.419103</td>\n",
       "      <td>4.338416e+07</td>\n",
       "      <td>2.133195e+05</td>\n",
       "      <td>1.343234e+07</td>\n",
       "    </tr>\n",
       "    <tr>\n",
       "      <th>std</th>\n",
       "      <td>0.314226</td>\n",
       "      <td>20189.229524</td>\n",
       "      <td>1.546056e+08</td>\n",
       "      <td>8.242011e+05</td>\n",
       "      <td>3.476498e+07</td>\n",
       "    </tr>\n",
       "    <tr>\n",
       "      <th>min</th>\n",
       "      <td>0.010000</td>\n",
       "      <td>660.210000</td>\n",
       "      <td>9.827000e+03</td>\n",
       "      <td>9.300000e+01</td>\n",
       "      <td>1.156300e+04</td>\n",
       "    </tr>\n",
       "    <tr>\n",
       "      <th>25%</th>\n",
       "      <td>0.087000</td>\n",
       "      <td>4984.190000</td>\n",
       "      <td>1.341140e+06</td>\n",
       "      <td>5.480000e+03</td>\n",
       "      <td>6.392280e+05</td>\n",
       "    </tr>\n",
       "    <tr>\n",
       "      <th>50%</th>\n",
       "      <td>0.144000</td>\n",
       "      <td>12123.840000</td>\n",
       "      <td>6.192993e+06</td>\n",
       "      <td>2.175400e+04</td>\n",
       "      <td>2.820558e+06</td>\n",
       "    </tr>\n",
       "    <tr>\n",
       "      <th>75%</th>\n",
       "      <td>0.223000</td>\n",
       "      <td>29221.990000</td>\n",
       "      <td>3.167159e+07</td>\n",
       "      <td>9.157100e+04</td>\n",
       "      <td>8.971770e+06</td>\n",
       "    </tr>\n",
       "    <tr>\n",
       "      <th>max</th>\n",
       "      <td>3.600000</td>\n",
       "      <td>125140.840000</td>\n",
       "      <td>1.341335e+09</td>\n",
       "      <td>8.819717e+06</td>\n",
       "      <td>2.628924e+08</td>\n",
       "    </tr>\n",
       "  </tbody>\n",
       "</table>\n",
       "</div>"
      ],
      "text/plain": [
       "       plastic_pc         gdp_pc     total_pop    plastic_mm   coastal_pop\n",
       "count  145.000000     145.000000  1.450000e+02  1.450000e+02  1.450000e+02\n",
       "mean     0.197503   19240.419103  4.338416e+07  2.133195e+05  1.343234e+07\n",
       "std      0.314226   20189.229524  1.546056e+08  8.242011e+05  3.476498e+07\n",
       "min      0.010000     660.210000  9.827000e+03  9.300000e+01  1.156300e+04\n",
       "25%      0.087000    4984.190000  1.341140e+06  5.480000e+03  6.392280e+05\n",
       "50%      0.144000   12123.840000  6.192993e+06  2.175400e+04  2.820558e+06\n",
       "75%      0.223000   29221.990000  3.167159e+07  9.157100e+04  8.971770e+06\n",
       "max      3.600000  125140.840000  1.341335e+09  8.819717e+06  2.628924e+08"
      ]
     },
     "execution_count": 37,
     "metadata": {},
     "output_type": "execute_result"
    }
   ],
   "source": [
    "country_data.describe()"
   ]
  },
  {
   "cell_type": "code",
   "execution_count": 45,
   "id": "702039a4-408f-445c-a57f-0115da815d85",
   "metadata": {},
   "outputs": [
    {
     "data": {
      "text/html": [
       "<div>\n",
       "<style scoped>\n",
       "    .dataframe tbody tr th:only-of-type {\n",
       "        vertical-align: middle;\n",
       "    }\n",
       "\n",
       "    .dataframe tbody tr th {\n",
       "        vertical-align: top;\n",
       "    }\n",
       "\n",
       "    .dataframe thead th {\n",
       "        text-align: right;\n",
       "    }\n",
       "</style>\n",
       "<table border=\"1\" class=\"dataframe\">\n",
       "  <thead>\n",
       "    <tr style=\"text-align: right;\">\n",
       "      <th></th>\n",
       "      <th>country</th>\n",
       "      <th>code</th>\n",
       "      <th>plastic_pc</th>\n",
       "      <th>gdp_pc</th>\n",
       "      <th>total_pop</th>\n",
       "      <th>plastic_mm</th>\n",
       "      <th>coastal_pop</th>\n",
       "    </tr>\n",
       "  </thead>\n",
       "  <tbody>\n",
       "    <tr>\n",
       "      <th>172</th>\n",
       "      <td>Trinidad and Tobago</td>\n",
       "      <td>TTO</td>\n",
       "      <td>3.600</td>\n",
       "      <td>31260.91</td>\n",
       "      <td>1341465</td>\n",
       "      <td>94066</td>\n",
       "      <td>1358433</td>\n",
       "    </tr>\n",
       "    <tr>\n",
       "      <th>91</th>\n",
       "      <td>Kuwait</td>\n",
       "      <td>KWT</td>\n",
       "      <td>0.686</td>\n",
       "      <td>75204.15</td>\n",
       "      <td>2736732</td>\n",
       "      <td>11489</td>\n",
       "      <td>2293604</td>\n",
       "    </tr>\n",
       "    <tr>\n",
       "      <th>4</th>\n",
       "      <td>Antigua and Barbuda</td>\n",
       "      <td>ATG</td>\n",
       "      <td>0.660</td>\n",
       "      <td>19212.72</td>\n",
       "      <td>88710</td>\n",
       "      <td>1253</td>\n",
       "      <td>66843</td>\n",
       "    </tr>\n",
       "    <tr>\n",
       "      <th>143</th>\n",
       "      <td>Saint Kitts and Nevis</td>\n",
       "      <td>KNA</td>\n",
       "      <td>0.654</td>\n",
       "      <td>21412.20</td>\n",
       "      <td>52402</td>\n",
       "      <td>715</td>\n",
       "      <td>36102</td>\n",
       "    </tr>\n",
       "    <tr>\n",
       "      <th>74</th>\n",
       "      <td>Guyana</td>\n",
       "      <td>GUY</td>\n",
       "      <td>0.586</td>\n",
       "      <td>5847.86</td>\n",
       "      <td>754493</td>\n",
       "      <td>42002</td>\n",
       "      <td>513235</td>\n",
       "    </tr>\n",
       "    <tr>\n",
       "      <th>...</th>\n",
       "      <td>...</td>\n",
       "      <td>...</td>\n",
       "      <td>...</td>\n",
       "      <td>...</td>\n",
       "      <td>...</td>\n",
       "      <td>...</td>\n",
       "      <td>...</td>\n",
       "    </tr>\n",
       "    <tr>\n",
       "      <th>19</th>\n",
       "      <td>Brunei</td>\n",
       "      <td>BRN</td>\n",
       "      <td>0.026</td>\n",
       "      <td>80552.86</td>\n",
       "      <td>398920</td>\n",
       "      <td>93</td>\n",
       "      <td>359871</td>\n",
       "    </tr>\n",
       "    <tr>\n",
       "      <th>167</th>\n",
       "      <td>Tanzania</td>\n",
       "      <td>TZA</td>\n",
       "      <td>0.023</td>\n",
       "      <td>2090.58</td>\n",
       "      <td>44841226</td>\n",
       "      <td>48586</td>\n",
       "      <td>6688695</td>\n",
       "    </tr>\n",
       "    <tr>\n",
       "      <th>98</th>\n",
       "      <td>Madagascar</td>\n",
       "      <td>MDG</td>\n",
       "      <td>0.016</td>\n",
       "      <td>1385.69</td>\n",
       "      <td>20713819</td>\n",
       "      <td>34522</td>\n",
       "      <td>7062413</td>\n",
       "    </tr>\n",
       "    <tr>\n",
       "      <th>112</th>\n",
       "      <td>Mozambique</td>\n",
       "      <td>MOZ</td>\n",
       "      <td>0.015</td>\n",
       "      <td>917.76</td>\n",
       "      <td>23390765</td>\n",
       "      <td>45995</td>\n",
       "      <td>9566559</td>\n",
       "    </tr>\n",
       "    <tr>\n",
       "      <th>79</th>\n",
       "      <td>India</td>\n",
       "      <td>IND</td>\n",
       "      <td>0.010</td>\n",
       "      <td>4404.70</td>\n",
       "      <td>1224614327</td>\n",
       "      <td>599819</td>\n",
       "      <td>187493433</td>\n",
       "    </tr>\n",
       "  </tbody>\n",
       "</table>\n",
       "<p>145 rows × 7 columns</p>\n",
       "</div>"
      ],
      "text/plain": [
       "                   country code  plastic_pc    gdp_pc   total_pop  plastic_mm  \\\n",
       "172    Trinidad and Tobago  TTO       3.600  31260.91     1341465       94066   \n",
       "91                  Kuwait  KWT       0.686  75204.15     2736732       11489   \n",
       "4      Antigua and Barbuda  ATG       0.660  19212.72       88710        1253   \n",
       "143  Saint Kitts and Nevis  KNA       0.654  21412.20       52402         715   \n",
       "74                  Guyana  GUY       0.586   5847.86      754493       42002   \n",
       "..                     ...  ...         ...       ...         ...         ...   \n",
       "19                  Brunei  BRN       0.026  80552.86      398920          93   \n",
       "167               Tanzania  TZA       0.023   2090.58    44841226       48586   \n",
       "98              Madagascar  MDG       0.016   1385.69    20713819       34522   \n",
       "112             Mozambique  MOZ       0.015    917.76    23390765       45995   \n",
       "79                   India  IND       0.010   4404.70  1224614327      599819   \n",
       "\n",
       "     coastal_pop  \n",
       "172      1358433  \n",
       "91       2293604  \n",
       "4          66843  \n",
       "143        36102  \n",
       "74        513235  \n",
       "..           ...  \n",
       "19        359871  \n",
       "167      6688695  \n",
       "98       7062413  \n",
       "112      9566559  \n",
       "79     187493433  \n",
       "\n",
       "[145 rows x 7 columns]"
      ]
     },
     "execution_count": 45,
     "metadata": {},
     "output_type": "execute_result"
    }
   ],
   "source": [
    "country_data.sort_values(\"plastic_pc\", ascending=False)"
   ]
  },
  {
   "cell_type": "code",
   "execution_count": null,
   "id": "521332e9-0097-480d-a241-888c285e267c",
   "metadata": {},
   "outputs": [],
   "source": []
  }
 ],
 "metadata": {
  "kernelspec": {
   "display_name": "data-start-4BdIRh-U",
   "language": "python",
   "name": "data-start-4bdirh-u"
  },
  "language_info": {
   "codemirror_mode": {
    "name": "ipython",
    "version": 3
   },
   "file_extension": ".py",
   "mimetype": "text/x-python",
   "name": "python",
   "nbconvert_exporter": "python",
   "pygments_lexer": "ipython3",
   "version": "3.10.0"
  }
 },
 "nbformat": 4,
 "nbformat_minor": 5
}
