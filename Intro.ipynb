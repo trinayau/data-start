{
 "cells": [
  {
   "cell_type": "markdown",
   "id": "6660a183-3470-497b-8848-8bfc44e4188e",
   "metadata": {
    "tags": []
   },
   "source": [
    "# Intro\n",
    "\n",
    "This notebook explores basic Jupyter functionality\n",
    "\n",
    "## Imports\n",
    "\n",
    "Imports go at the top of the notebook file."
   ]
  },
  {
   "cell_type": "code",
   "execution_count": 2,
   "id": "24ca43e8-367b-4847-bb9e-e528fd094e54",
   "metadata": {},
   "outputs": [],
   "source": [
    "import random"
   ]
  },
  {
   "cell_type": "markdown",
   "id": "26ac2375-54a2-4d19-ab75-03a70eb5edf7",
   "metadata": {},
   "source": [
    "## Data sourcing"
   ]
  },
  {
   "cell_type": "markdown",
   "id": "aaa1bdd9-aa6c-42f2-80dd-976b59b294af",
   "metadata": {},
   "source": [
    "## Data exploration"
   ]
  },
  {
   "cell_type": "code",
   "execution_count": null,
   "id": "5c7d2139-0090-4be4-843b-5422f33d709d",
   "metadata": {},
   "outputs": [],
   "source": []
  }
 ],
 "metadata": {
  "kernelspec": {
   "display_name": "data-start-4BdIRh-U",
   "language": "python",
   "name": "data-start-4bdirh-u"
  },
  "language_info": {
   "codemirror_mode": {
    "name": "ipython",
    "version": 3
   },
   "file_extension": ".py",
   "mimetype": "text/x-python",
   "name": "python",
   "nbconvert_exporter": "python",
   "pygments_lexer": "ipython3",
   "version": "3.10.0"
  }
 },
 "nbformat": 4,
 "nbformat_minor": 5
}
