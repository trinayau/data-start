{
 "cells": [
  {
   "cell_type": "markdown",
   "id": "17187ca5-f16b-4263-abe4-aa14b9fdbab2",
   "metadata": {},
   "source": [
    "# Penguin Prediction\n",
    "\n",
    "This notebook builds a predictive model to determine penguin species."
   ]
  },
  {
   "cell_type": "markdown",
   "id": "dad5caa4-a44f-4d65-87f1-70f2e696c303",
   "metadata": {},
   "source": [
    "## Import"
   ]
  },
  {
   "cell_type": "code",
   "execution_count": 1,
   "id": "d4f38e04-a46e-4b7f-aea9-fc5ca6be7c71",
   "metadata": {},
   "outputs": [],
   "source": [
    "import pandas as pd\n",
    "import seaborn as sns\n",
    "import plotly.express as px"
   ]
  },
  {
   "cell_type": "markdown",
   "id": "2f2de309-1151-4c64-85bf-75a8479999bc",
   "metadata": {},
   "source": [
    "## Data sourcing"
   ]
  },
  {
   "cell_type": "code",
   "execution_count": 2,
   "id": "d660acb1-29f4-4112-8b15-e9b30cc0b875",
   "metadata": {},
   "outputs": [],
   "source": [
    "penguins = pd.read_csv(\"./data/penguins_size.csv\")"
   ]
  },
  {
   "cell_type": "code",
   "execution_count": 3,
   "id": "dbae9353-a363-4127-aeca-9b3e0a6ce5a5",
   "metadata": {},
   "outputs": [
    {
     "data": {
      "text/html": [
       "<div>\n",
       "<style scoped>\n",
       "    .dataframe tbody tr th:only-of-type {\n",
       "        vertical-align: middle;\n",
       "    }\n",
       "\n",
       "    .dataframe tbody tr th {\n",
       "        vertical-align: top;\n",
       "    }\n",
       "\n",
       "    .dataframe thead th {\n",
       "        text-align: right;\n",
       "    }\n",
       "</style>\n",
       "<table border=\"1\" class=\"dataframe\">\n",
       "  <thead>\n",
       "    <tr style=\"text-align: right;\">\n",
       "      <th></th>\n",
       "      <th>species</th>\n",
       "      <th>island</th>\n",
       "      <th>culmen_length_mm</th>\n",
       "      <th>culmen_depth_mm</th>\n",
       "      <th>flipper_length_mm</th>\n",
       "      <th>body_mass_g</th>\n",
       "      <th>sex</th>\n",
       "    </tr>\n",
       "  </thead>\n",
       "  <tbody>\n",
       "    <tr>\n",
       "      <th>267</th>\n",
       "      <td>Gentoo</td>\n",
       "      <td>Biscoe</td>\n",
       "      <td>50.5</td>\n",
       "      <td>15.9</td>\n",
       "      <td>225.0</td>\n",
       "      <td>5400.0</td>\n",
       "      <td>MALE</td>\n",
       "    </tr>\n",
       "    <tr>\n",
       "      <th>223</th>\n",
       "      <td>Gentoo</td>\n",
       "      <td>Biscoe</td>\n",
       "      <td>50.0</td>\n",
       "      <td>15.2</td>\n",
       "      <td>218.0</td>\n",
       "      <td>5700.0</td>\n",
       "      <td>MALE</td>\n",
       "    </tr>\n",
       "  </tbody>\n",
       "</table>\n",
       "</div>"
      ],
      "text/plain": [
       "    species  island  culmen_length_mm  culmen_depth_mm  flipper_length_mm  \\\n",
       "267  Gentoo  Biscoe              50.5             15.9              225.0   \n",
       "223  Gentoo  Biscoe              50.0             15.2              218.0   \n",
       "\n",
       "     body_mass_g   sex  \n",
       "267       5400.0  MALE  \n",
       "223       5700.0  MALE  "
      ]
     },
     "execution_count": 3,
     "metadata": {},
     "output_type": "execute_result"
    }
   ],
   "source": [
    "penguins.sample(2)"
   ]
  },
  {
   "cell_type": "markdown",
   "id": "b676fe00-5979-4689-8e9c-8562d7af0b4d",
   "metadata": {},
   "source": [
    "## Data processing"
   ]
  },
  {
   "cell_type": "code",
   "execution_count": 4,
   "id": "a662ba56-fea7-4533-a920-fd272652782d",
   "metadata": {},
   "outputs": [],
   "source": [
    "penguins = penguins.drop(columns=[\"island\"])"
   ]
  },
  {
   "cell_type": "code",
   "execution_count": 5,
   "id": "92eab64c-6339-449b-8946-7225c44dcd47",
   "metadata": {},
   "outputs": [],
   "source": [
    "penguins = penguins.dropna()"
   ]
  },
  {
   "cell_type": "code",
   "execution_count": 6,
   "id": "02080020-409a-44de-9fc7-48f426a836eb",
   "metadata": {},
   "outputs": [
    {
     "data": {
      "text/plain": [
       "(334, 6)"
      ]
     },
     "execution_count": 6,
     "metadata": {},
     "output_type": "execute_result"
    }
   ],
   "source": [
    "penguins.shape"
   ]
  },
  {
   "cell_type": "code",
   "execution_count": 7,
   "id": "e7652d57-ca53-48a3-afb7-4fe053ee7ab8",
   "metadata": {},
   "outputs": [],
   "source": [
    "penguins[\"sex\"] = penguins[\"sex\"].replace({ \"MALE\": 0, \"FEMALE\":1 })"
   ]
  },
  {
   "cell_type": "code",
   "execution_count": 8,
   "id": "00b89217-8fab-48f0-9a37-596d8b89544e",
   "metadata": {},
   "outputs": [],
   "source": [
    "penguins = penguins.rename(columns={\n",
    "    \"sex\": \"is_female\"\n",
    "})"
   ]
  },
  {
   "cell_type": "code",
   "execution_count": 9,
   "id": "fdc948e5-c722-4f62-bcfc-30788dde5be5",
   "metadata": {},
   "outputs": [
    {
     "data": {
      "text/html": [
       "<div>\n",
       "<style scoped>\n",
       "    .dataframe tbody tr th:only-of-type {\n",
       "        vertical-align: middle;\n",
       "    }\n",
       "\n",
       "    .dataframe tbody tr th {\n",
       "        vertical-align: top;\n",
       "    }\n",
       "\n",
       "    .dataframe thead th {\n",
       "        text-align: right;\n",
       "    }\n",
       "</style>\n",
       "<table border=\"1\" class=\"dataframe\">\n",
       "  <thead>\n",
       "    <tr style=\"text-align: right;\">\n",
       "      <th></th>\n",
       "      <th>species</th>\n",
       "      <th>culmen_length_mm</th>\n",
       "      <th>culmen_depth_mm</th>\n",
       "      <th>flipper_length_mm</th>\n",
       "      <th>body_mass_g</th>\n",
       "      <th>is_female</th>\n",
       "    </tr>\n",
       "  </thead>\n",
       "  <tbody>\n",
       "    <tr>\n",
       "      <th>0</th>\n",
       "      <td>Adelie</td>\n",
       "      <td>39.1</td>\n",
       "      <td>18.7</td>\n",
       "      <td>181.0</td>\n",
       "      <td>3750.0</td>\n",
       "      <td>0</td>\n",
       "    </tr>\n",
       "    <tr>\n",
       "      <th>1</th>\n",
       "      <td>Adelie</td>\n",
       "      <td>39.5</td>\n",
       "      <td>17.4</td>\n",
       "      <td>186.0</td>\n",
       "      <td>3800.0</td>\n",
       "      <td>1</td>\n",
       "    </tr>\n",
       "    <tr>\n",
       "      <th>2</th>\n",
       "      <td>Adelie</td>\n",
       "      <td>40.3</td>\n",
       "      <td>18.0</td>\n",
       "      <td>195.0</td>\n",
       "      <td>3250.0</td>\n",
       "      <td>1</td>\n",
       "    </tr>\n",
       "    <tr>\n",
       "      <th>4</th>\n",
       "      <td>Adelie</td>\n",
       "      <td>36.7</td>\n",
       "      <td>19.3</td>\n",
       "      <td>193.0</td>\n",
       "      <td>3450.0</td>\n",
       "      <td>1</td>\n",
       "    </tr>\n",
       "    <tr>\n",
       "      <th>5</th>\n",
       "      <td>Adelie</td>\n",
       "      <td>39.3</td>\n",
       "      <td>20.6</td>\n",
       "      <td>190.0</td>\n",
       "      <td>3650.0</td>\n",
       "      <td>0</td>\n",
       "    </tr>\n",
       "  </tbody>\n",
       "</table>\n",
       "</div>"
      ],
      "text/plain": [
       "  species  culmen_length_mm  culmen_depth_mm  flipper_length_mm  body_mass_g  \\\n",
       "0  Adelie              39.1             18.7              181.0       3750.0   \n",
       "1  Adelie              39.5             17.4              186.0       3800.0   \n",
       "2  Adelie              40.3             18.0              195.0       3250.0   \n",
       "4  Adelie              36.7             19.3              193.0       3450.0   \n",
       "5  Adelie              39.3             20.6              190.0       3650.0   \n",
       "\n",
       "  is_female  \n",
       "0         0  \n",
       "1         1  \n",
       "2         1  \n",
       "4         1  \n",
       "5         0  "
      ]
     },
     "execution_count": 9,
     "metadata": {},
     "output_type": "execute_result"
    }
   ],
   "source": [
    "penguins.head()"
   ]
  },
  {
   "cell_type": "markdown",
   "id": "8f16dc30-0ee5-49fa-96ba-6a519c861224",
   "metadata": {},
   "source": [
    "## Visualise data"
   ]
  },
  {
   "cell_type": "code",
   "execution_count": 16,
   "id": "96ae549f-b992-41cd-a3b4-6f5d9ef42c0f",
   "metadata": {},
   "outputs": [],
   "source": [
    "penguins = penguins[penguins[\"is_female\"] != \".\"]"
   ]
  },
  {
   "cell_type": "code",
   "execution_count": 27,
   "id": "74a822c3-bc7d-477d-9009-a5ad57322855",
   "metadata": {},
   "outputs": [
    {
     "data": {
      "text/plain": [
       "<AxesSubplot:xlabel='body_mass_g', ylabel='flipper_length_mm'>"
      ]
     },
     "execution_count": 27,
     "metadata": {},
     "output_type": "execute_result"
    },
    {
     "data": {
      "image/png": "[encoded data removed]",
      "text/plain": [
       "<Figure size 432x288 with 1 Axes>"
      ]
     },
     "metadata": {
      "needs_background": "light"
     },
     "output_type": "display_data"
    }
   ],
   "source": [
    "sns.scatterplot(data=penguins,\n",
    "               x=\"body_mass_g\",\n",
    "               y=\"flipper_length_mm\",\n",
    "               hue=\"is_female\",\n",
    "               palette=\"tab20\")"
   ]
  },
  {
   "cell_type": "code",
   "execution_count": 42,
   "id": "0d5de795-2ee0-4dae-83f0-0802d9fd665b",
   "metadata": {},
   "outputs": [
    {
     "data": {
      "text/plain": [
       "<AxesSubplot:xlabel='species', ylabel='count'>"
      ]
     },
     "execution_count": 42,
     "metadata": {},
     "output_type": "execute_result"
    },
    {
     "data": {
      "image/png": "[encoded data removed]",
      "text/plain": [
       "<Figure size 432x288 with 1 Axes>"
      ]
     },
     "metadata": {
      "needs_background": "light"
     },
     "output_type": "display_data"
    }
   ],
   "source": [
    "sns.countplot(data=penguins, x=\"species\")"
   ]
  },
  {
   "cell_type": "code",
   "execution_count": 48,
   "id": "c5028801-e871-442f-94f9-be22d655ab7e",
   "metadata": {},
   "outputs": [
    {
     "data": {
      "application/vnd.plotly.v1+json": {
       "config": {
        "plotlyServerURL": "https://plot.ly"
       },
       "data": [
        {
         "customdata": [
          [
           "Adelie"
          ],
          [
           "Adelie"
          ],
          [
           "Adelie"
          ],
          [
           "Adelie"
          ],
          [
           "Adelie"
          ],
          [
           "Adelie"
          ],
          [
           "Adelie"
          ],
          [
           "Adelie"
          ],
          [
           "Adelie"
          ],
          [
           "Adelie"
          ],
          [
           "Adelie"
          ],
          [
           "Adelie"
          ],
          [
           "Adelie"
          ],
          [
           "Adelie"
          ],
          [
           "Adelie"
          ],
          [
           "Adelie"
          ],
          [
           "Adelie"
          ],
          [
           "Adelie"
          ],
          [
           "Adelie"
          ],
          [
           "Adelie"
          ],
          [
           "Adelie"
          ],
          [
           "Adelie"
          ],
          [
           "Adelie"
          ],
          [
           "Adelie"
          ],
          [
           "Adelie"
          ],
          [
           "Adelie"
          ],
          [
           "Adelie"
          ],
          [
           "Adelie"
          ],
          [
           "Adelie"
          ],
          [
           "Adelie"
          ],
          [
           "Adelie"
          ],
          [
           "Adelie"
          ],
          [
           "Adelie"
          ],
          [
           "Adelie"
          ],
          [
           "Adelie"
          ],
          [
           "Adelie"
          ],
          [
           "Adelie"
          ],
          [
           "Adelie"
          ],
          [
           "Adelie"
          ],
          [
           "Adelie"
          ],
          [
           "Adelie"
          ],
          [
           "Adelie"
          ],
          [
           "Adelie"
          ],
          [
           "Adelie"
          ],
          [
           "Adelie"
          ],
          [
           "Adelie"
          ],
          [
           "Adelie"
          ],
          [
           "Adelie"
          ],
          [
           "Adelie"
          ],
          [
           "Adelie"
          ],
          [
           "Adelie"
          ],
          [
           "Adelie"
          ],
          [
           "Adelie"
          ],
          [
           "Adelie"
          ],
          [
           "Adelie"
          ],
          [
           "Adelie"
          ],
          [
           "Adelie"
          ],
          [
           "Adelie"
          ],
          [
           "Adelie"
          ],
          [
           "Adelie"
          ],
          [
           "Adelie"
          ],
          [
           "Adelie"
          ],
          [
           "Adelie"
          ],
          [
           "Adelie"
          ],
          [
           "Adelie"
          ],
          [
           "Adelie"
          ],
          [
           "Adelie"
          ],
          [
           "Adelie"
          ],
          [
           "Adelie"
          ],
          [
           "Adelie"
          ],
          [
           "Adelie"
          ],
          [
           "Adelie"
          ],
          [
           "Adelie"
          ],
          [
           "Chinstrap"
          ],
          [
           "Chinstrap"
          ],
          [
           "Chinstrap"
          ],
          [
           "Chinstrap"
          ],
          [
           "Chinstrap"
          ],
          [
           "Chinstrap"
          ],
          [
           "Chinstrap"
          ],
          [
           "Chinstrap"
          ],
          [
           "Chinstrap"
          ],
          [
           "Chinstrap"
          ],
          [
           "Chinstrap"
          ],
          [
           "Chinstrap"
          ],
          [
           "Chinstrap"
          ],
          [
           "Chinstrap"
          ],
          [
           "Chinstrap"
          ],
          [
           "Chinstrap"
          ],
          [
           "Chinstrap"
          ],
          [
           "Chinstrap"
          ],
          [
           "Chinstrap"
          ],
          [
           "Chinstrap"
          ],
          [
           "Chinstrap"
          ],
          [
           "Chinstrap"
          ],
          [
           "Chinstrap"
          ],
          [
           "Chinstrap"
          ],
          [
           "Chinstrap"
          ],
          [
           "Chinstrap"
          ],
          [
           "Chinstrap"
          ],
          [
           "Chinstrap"
          ],
          [
           "Chinstrap"
          ],
          [
           "Chinstrap"
          ],
          [
           "Chinstrap"
          ],
          [
           "Chinstrap"
          ],
          [
           "Chinstrap"
          ],
          [
           "Chinstrap"
          ],
          [
           "Gentoo"
          ],
          [
           "Gentoo"
          ],
          [
           "Gentoo"
          ],
          [
           "Gentoo"
          ],
          [
           "Gentoo"
          ],
          [
           "Gentoo"
          ],
          [
           "Gentoo"
          ],
          [
           "Gentoo"
          ],
          [
           "Gentoo"
          ],
          [
           "Gentoo"
          ],
          [
           "Gentoo"
          ],
          [
           "Gentoo"
          ],
          [
           "Gentoo"
          ],
          [
           "Gentoo"
          ],
          [
           "Gentoo"
          ],
          [
           "Gentoo"
          ],
          [
           "Gentoo"
          ],
          [
           "Gentoo"
          ],
          [
           "Gentoo"
          ],
          [
           "Gentoo"
          ],
          [
           "Gentoo"
          ],
          [
           "Gentoo"
          ],
          [
           "Gentoo"
          ],
          [
           "Gentoo"
          ],
          [
           "Gentoo"
          ],
          [
           "Gentoo"
          ],
          [
           "Gentoo"
          ],
          [
           "Gentoo"
          ],
          [
           "Gentoo"
          ],
          [
           "Gentoo"
          ],
          [
           "Gentoo"
          ],
          [
           "Gentoo"
          ],
          [
           "Gentoo"
          ],
          [
           "Gentoo"
          ],
          [
           "Gentoo"
          ],
          [
           "Gentoo"
          ],
          [
           "Gentoo"
          ],
          [
           "Gentoo"
          ],
          [
           "Gentoo"
          ],
          [
           "Gentoo"
          ],
          [
           "Gentoo"
          ],
          [
           "Gentoo"
          ],
          [
           "Gentoo"
          ],
          [
           "Gentoo"
          ],
          [
           "Gentoo"
          ],
          [
           "Gentoo"
          ],
          [
           "Gentoo"
          ],
          [
           "Gentoo"
          ],
          [
           "Gentoo"
          ],
          [
           "Gentoo"
          ],
          [
           "Gentoo"
          ],
          [
           "Gentoo"
          ],
          [
           "Gentoo"
          ],
          [
           "Gentoo"
          ],
          [
           "Gentoo"
          ],
          [
           "Gentoo"
          ],
          [
           "Gentoo"
          ],
          [
           "Gentoo"
          ],
          [
           "Gentoo"
          ],
          [
           "Gentoo"
          ],
          [
           "Gentoo"
          ]
         ],
         "hovertemplate": "is_female=0<br>culmen_length_mm=%{x}<br>culmen_depth_mm=%{y}<br>species=%{customdata[0]}<extra></extra>",
         "legendgroup": "0",
         "marker": {
          "color": "#636efa",
          "symbol": "circle"
         },
         "mode": "markers",
         "name": "0",
         "orientation": "v",
         "showlegend": true,
         "type": "scatter",
         "x": [
          39.1,
          39.3,
          39.2,
          38.6,
          34.6,
          42.5,
          46,
          37.7,
          38.2,
          38.8,
          40.6,
          40.5,
          37.2,
          40.9,
          39.2,
          38.8,
          39.8,
          40.8,
          44.1,
          39.6,
          41.1,
          42.3,
          40.1,
          42,
          41.4,
          40.6,
          37.6,
          41.3,
          41.1,
          41.6,
          41.1,
          41.8,
          39.7,
          45.8,
          42.8,
          37.2,
          42.1,
          42.9,
          35.1,
          41.3,
          36.3,
          38.3,
          41.1,
          39.6,
          40.8,
          40.3,
          43.2,
          41,
          37.8,
          39.7,
          38.2,
          43.2,
          45.6,
          42.2,
          42.7,
          37.3,
          41.1,
          37.7,
          41.4,
          40.6,
          41.5,
          44.1,
          43.1,
          37.5,
          41.1,
          40.2,
          39.7,
          40.6,
          40.7,
          39,
          39.2,
          37.8,
          41.5,
          50,
          51.3,
          52.7,
          51.3,
          51.3,
          51.7,
          52,
          50.5,
          50.3,
          49.2,
          48.5,
          50.6,
          52,
          49.5,
          52.8,
          54.2,
          51,
          49.7,
          52,
          53.5,
          49,
          50.9,
          50.8,
          49,
          51.5,
          51.4,
          50.7,
          52.2,
          49.3,
          50.2,
          51.9,
          55.8,
          49.6,
          50.8,
          50,
          50,
          47.6,
          46.7,
          46.8,
          49,
          48.4,
          49.3,
          49.2,
          48.7,
          50.2,
          46.3,
          46.1,
          47.8,
          50,
          47.3,
          59.6,
          48.4,
          44.4,
          48.7,
          49.6,
          49.6,
          50.5,
          50.5,
          45.2,
          48.5,
          50.1,
          45,
          45.5,
          50.4,
          46.2,
          54.3,
          49.8,
          49.5,
          50.7,
          46.4,
          48.2,
          48.6,
          51.1,
          45.2,
          52.5,
          50,
          50.8,
          51.3,
          52.1,
          52.2,
          49.5,
          50.8,
          49.4,
          51.1,
          55.9,
          49.1,
          46.8,
          53.4,
          48.1,
          49.8,
          51.5,
          55.1,
          48.8,
          50.4,
          49.9
         ],
         "xaxis": "x",
         "y": [
          18.7,
          20.6,
          19.6,
          21.2,
          21.1,
          20.7,
          21.5,
          18.7,
          18.1,
          17.2,
          18.6,
          18.9,
          18.1,
          18.9,
          21.1,
          20,
          19.1,
          18.4,
          19.7,
          18.8,
          19,
          21.2,
          18.9,
          19.5,
          18.6,
          18.8,
          19.1,
          21.1,
          18.2,
          18,
          19.1,
          19.4,
          18.4,
          18.9,
          18.5,
          19.4,
          19.1,
          17.6,
          19.4,
          20.3,
          19.5,
          19.2,
          18.1,
          18.1,
          18.9,
          18.5,
          18.5,
          20,
          20,
          18.9,
          20,
          19,
          20.3,
          19.5,
          18.3,
          20.5,
          18.6,
          19.8,
          18.5,
          19,
          18.3,
          18,
          19.2,
          18.5,
          17.5,
          20.1,
          17.9,
          17.2,
          17,
          18.7,
          18.6,
          18.1,
          18.5,
          19.5,
          19.2,
          19.8,
          18.2,
          19.9,
          20.3,
          18.1,
          19.6,
          20,
          18.2,
          17.5,
          19.4,
          19,
          19,
          20,
          20.8,
          18.8,
          18.6,
          20.7,
          19.9,
          19.5,
          19.1,
          18.5,
          19.6,
          18.7,
          19,
          19.7,
          18.8,
          19.9,
          18.8,
          19.5,
          19.8,
          18.2,
          19,
          16.3,
          15.2,
          14.5,
          15.3,
          15.4,
          16.1,
          14.6,
          15.7,
          15.2,
          15.1,
          14.3,
          15.8,
          15.1,
          15,
          15.3,
          15.3,
          17,
          16.3,
          17.3,
          15.7,
          16,
          15,
          15.9,
          15.9,
          15.8,
          14.1,
          15,
          15.4,
          15,
          15.3,
          14.9,
          15.7,
          16.8,
          16.2,
          15,
          15.6,
          15.6,
          16,
          16.3,
          16.4,
          15.6,
          15.9,
          17.3,
          14.2,
          17,
          17.1,
          16.1,
          15.7,
          15.8,
          16.5,
          17,
          15,
          16.1,
          15.8,
          15.1,
          15.9,
          16.3,
          16,
          16.2,
          15.7,
          16.1
         ],
         "yaxis": "y"
        },
        {
         "customdata": [
          [
           "Adelie"
          ],
          [
           "Adelie"
          ],
          [
           "Adelie"
          ],
          [
           "Adelie"
          ],
          [
           "Adelie"
          ],
          [
           "Adelie"
          ],
          [
           "Adelie"
          ],
          [
           "Adelie"
          ],
          [
           "Adelie"
          ],
          [
           "Adelie"
          ],
          [
           "Adelie"
          ],
          [
           "Adelie"
          ],
          [
           "Adelie"
          ],
          [
           "Adelie"
          ],
          [
           "Adelie"
          ],
          [
           "Adelie"
          ],
          [
           "Adelie"
          ],
          [
           "Adelie"
          ],
          [
           "Adelie"
          ],
          [
           "Adelie"
          ],
          [
           "Adelie"
          ],
          [
           "Adelie"
          ],
          [
           "Adelie"
          ],
          [
           "Adelie"
          ],
          [
           "Adelie"
          ],
          [
           "Adelie"
          ],
          [
           "Adelie"
          ],
          [
           "Adelie"
          ],
          [
           "Adelie"
          ],
          [
           "Adelie"
          ],
          [
           "Adelie"
          ],
          [
           "Adelie"
          ],
          [
           "Adelie"
          ],
          [
           "Adelie"
          ],
          [
           "Adelie"
          ],
          [
           "Adelie"
          ],
          [
           "Adelie"
          ],
          [
           "Adelie"
          ],
          [
           "Adelie"
          ],
          [
           "Adelie"
          ],
          [
           "Adelie"
          ],
          [
           "Adelie"
          ],
          [
           "Adelie"
          ],
          [
           "Adelie"
          ],
          [
           "Adelie"
          ],
          [
           "Adelie"
          ],
          [
           "Adelie"
          ],
          [
           "Adelie"
          ],
          [
           "Adelie"
          ],
          [
           "Adelie"
          ],
          [
           "Adelie"
          ],
          [
           "Adelie"
          ],
          [
           "Adelie"
          ],
          [
           "Adelie"
          ],
          [
           "Adelie"
          ],
          [
           "Adelie"
          ],
          [
           "Adelie"
          ],
          [
           "Adelie"
          ],
          [
           "Adelie"
          ],
          [
           "Adelie"
          ],
          [
           "Adelie"
          ],
          [
           "Adelie"
          ],
          [
           "Adelie"
          ],
          [
           "Adelie"
          ],
          [
           "Adelie"
          ],
          [
           "Adelie"
          ],
          [
           "Adelie"
          ],
          [
           "Adelie"
          ],
          [
           "Adelie"
          ],
          [
           "Adelie"
          ],
          [
           "Adelie"
          ],
          [
           "Adelie"
          ],
          [
           "Adelie"
          ],
          [
           "Chinstrap"
          ],
          [
           "Chinstrap"
          ],
          [
           "Chinstrap"
          ],
          [
           "Chinstrap"
          ],
          [
           "Chinstrap"
          ],
          [
           "Chinstrap"
          ],
          [
           "Chinstrap"
          ],
          [
           "Chinstrap"
          ],
          [
           "Chinstrap"
          ],
          [
           "Chinstrap"
          ],
          [
           "Chinstrap"
          ],
          [
           "Chinstrap"
          ],
          [
           "Chinstrap"
          ],
          [
           "Chinstrap"
          ],
          [
           "Chinstrap"
          ],
          [
           "Chinstrap"
          ],
          [
           "Chinstrap"
          ],
          [
           "Chinstrap"
          ],
          [
           "Chinstrap"
          ],
          [
           "Chinstrap"
          ],
          [
           "Chinstrap"
          ],
          [
           "Chinstrap"
          ],
          [
           "Chinstrap"
          ],
          [
           "Chinstrap"
          ],
          [
           "Chinstrap"
          ],
          [
           "Chinstrap"
          ],
          [
           "Chinstrap"
          ],
          [
           "Chinstrap"
          ],
          [
           "Chinstrap"
          ],
          [
           "Chinstrap"
          ],
          [
           "Chinstrap"
          ],
          [
           "Chinstrap"
          ],
          [
           "Chinstrap"
          ],
          [
           "Chinstrap"
          ],
          [
           "Gentoo"
          ],
          [
           "Gentoo"
          ],
          [
           "Gentoo"
          ],
          [
           "Gentoo"
          ],
          [
           "Gentoo"
          ],
          [
           "Gentoo"
          ],
          [
           "Gentoo"
          ],
          [
           "Gentoo"
          ],
          [
           "Gentoo"
          ],
          [
           "Gentoo"
          ],
          [
           "Gentoo"
          ],
          [
           "Gentoo"
          ],
          [
           "Gentoo"
          ],
          [
           "Gentoo"
          ],
          [
           "Gentoo"
          ],
          [
           "Gentoo"
          ],
          [
           "Gentoo"
          ],
          [
           "Gentoo"
          ],
          [
           "Gentoo"
          ],
          [
           "Gentoo"
          ],
          [
           "Gentoo"
          ],
          [
           "Gentoo"
          ],
          [
           "Gentoo"
          ],
          [
           "Gentoo"
          ],
          [
           "Gentoo"
          ],
          [
           "Gentoo"
          ],
          [
           "Gentoo"
          ],
          [
           "Gentoo"
          ],
          [
           "Gentoo"
          ],
          [
           "Gentoo"
          ],
          [
           "Gentoo"
          ],
          [
           "Gentoo"
          ],
          [
           "Gentoo"
          ],
          [
           "Gentoo"
          ],
          [
           "Gentoo"
          ],
          [
           "Gentoo"
          ],
          [
           "Gentoo"
          ],
          [
           "Gentoo"
          ],
          [
           "Gentoo"
          ],
          [
           "Gentoo"
          ],
          [
           "Gentoo"
          ],
          [
           "Gentoo"
          ],
          [
           "Gentoo"
          ],
          [
           "Gentoo"
          ],
          [
           "Gentoo"
          ],
          [
           "Gentoo"
          ],
          [
           "Gentoo"
          ],
          [
           "Gentoo"
          ],
          [
           "Gentoo"
          ],
          [
           "Gentoo"
          ],
          [
           "Gentoo"
          ],
          [
           "Gentoo"
          ],
          [
           "Gentoo"
          ],
          [
           "Gentoo"
          ],
          [
           "Gentoo"
          ],
          [
           "Gentoo"
          ],
          [
           "Gentoo"
          ],
          [
           "Gentoo"
          ]
         ],
         "hovertemplate": "is_female=1<br>culmen_length_mm=%{x}<br>culmen_depth_mm=%{y}<br>species=%{customdata[0]}<extra></extra>",
         "legendgroup": "1",
         "marker": {
          "color": "#EF553B",
          "symbol": "circle"
         },
         "mode": "markers",
         "name": "1",
         "orientation": "v",
         "showlegend": true,
         "type": "scatter",
         "x": [
          39.5,
          40.3,
          36.7,
          38.9,
          41.1,
          36.6,
          38.7,
          34.4,
          37.8,
          35.9,
          35.3,
          40.5,
          37.9,
          39.5,
          39.5,
          36.4,
          42.2,
          37.6,
          36.5,
          36,
          37,
          36,
          39.6,
          35,
          34.5,
          39,
          36.5,
          35.7,
          37.6,
          36.4,
          35.5,
          35.9,
          33.5,
          39.6,
          35.5,
          40.9,
          36.2,
          34.6,
          36.7,
          37.3,
          36.9,
          38.9,
          35.7,
          34,
          36.2,
          38.1,
          33.1,
          35,
          37.7,
          37.9,
          38.6,
          38.1,
          38.1,
          39.7,
          39.6,
          38.6,
          35.7,
          36.2,
          40.2,
          35.2,
          38.8,
          39,
          38.5,
          36.8,
          38.1,
          35.6,
          37,
          40.2,
          32.1,
          37.3,
          36.6,
          36,
          36,
          46.5,
          45.4,
          45.2,
          46.1,
          46,
          46.6,
          47,
          45.9,
          58,
          46.4,
          42.4,
          43.2,
          46.7,
          50.5,
          46.4,
          40.9,
          42.5,
          47.5,
          47.6,
          46.9,
          46.2,
          45.5,
          50.9,
          50.1,
          49.8,
          48.1,
          45.7,
          42.5,
          45.2,
          45.6,
          46.8,
          45.7,
          43.5,
          50.2,
          46.1,
          48.7,
          46.5,
          45.4,
          43.3,
          40.9,
          45.5,
          45.8,
          42,
          46.2,
          45.1,
          46.5,
          42.9,
          48.2,
          42.8,
          45.1,
          49.1,
          42.6,
          44,
          42.7,
          45.3,
          43.6,
          45.5,
          44.9,
          46.6,
          45.1,
          46.5,
          43.8,
          43.2,
          45.3,
          45.7,
          45.8,
          43.5,
          47.7,
          46.5,
          46.4,
          47.5,
          45.2,
          49.1,
          47.4,
          44.9,
          43.4,
          47.5,
          47.5,
          45.5,
          44.5,
          46.9,
          48.4,
          48.5,
          47.2,
          41.7,
          43.3,
          50.5,
          43.5,
          46.2,
          47.2,
          46.8,
          45.2
         ],
         "xaxis": "x",
         "y": [
          17.4,
          18,
          19.3,
          17.8,
          17.6,
          17.8,
          19,
          18.4,
          18.3,
          19.2,
          18.9,
          17.9,
          18.6,
          16.7,
          17.8,
          17,
          18.5,
          19.3,
          18,
          18.5,
          16.9,
          17.9,
          17.7,
          17.9,
          18.1,
          17.5,
          16.6,
          16.9,
          17,
          17.1,
          16.2,
          16.6,
          19,
          17.2,
          17.5,
          16.8,
          16.1,
          17.2,
          18.8,
          17.8,
          18.6,
          18.8,
          18,
          17.1,
          17.3,
          18.6,
          16.1,
          17.9,
          16,
          18.6,
          17.2,
          17,
          16.5,
          17.7,
          20.7,
          17,
          17,
          17.2,
          17,
          15.9,
          17.6,
          17.1,
          17.9,
          18.5,
          17.6,
          17.5,
          16.5,
          17.1,
          15.5,
          16.8,
          18.4,
          17.8,
          17.1,
          17.9,
          18.7,
          17.8,
          18.2,
          18.9,
          17.8,
          17.3,
          17.1,
          17.8,
          18.6,
          17.3,
          16.6,
          17.9,
          18.4,
          17.8,
          16.6,
          16.7,
          16.8,
          18.3,
          16.6,
          17.5,
          17,
          17.9,
          17.9,
          17.3,
          16.4,
          17.3,
          17.3,
          16.6,
          19.4,
          16.5,
          17,
          18.1,
          18.7,
          13.2,
          14.1,
          13.5,
          14.6,
          13.4,
          13.7,
          13.7,
          14.6,
          13.5,
          14.5,
          14.5,
          14.5,
          13.1,
          14.3,
          14.2,
          14.5,
          14.8,
          13.7,
          13.6,
          13.7,
          13.7,
          13.9,
          13.9,
          13.3,
          14.2,
          14.4,
          14.4,
          13.9,
          14.5,
          13.8,
          13.9,
          14.2,
          14.2,
          15,
          14.8,
          15,
          14.2,
          13.8,
          14.5,
          14.6,
          13.8,
          14.4,
          14,
          15,
          14.5,
          14.7,
          14.6,
          14.4,
          15,
          15.5,
          14.7,
          14,
          15.2,
          15.2,
          14.1,
          13.7,
          14.3,
          14.8
         ],
         "yaxis": "y"
        }
       ],
       "layout": {
        "autosize": true,
        "legend": {
         "title": {
          "text": "is_female"
         },
         "tracegroupgap": 0
        },
        "margin": {
         "t": 60
        },
        "template": {
         "data": {
          "bar": [
           {
            "error_x": {
             "color": "#2a3f5f"
            },
            "error_y": {
             "color": "#2a3f5f"
            },
            "marker": {
             "line": {
              "color": "#E5ECF6",
              "width": 0.5
             },
             "pattern": {
              "fillmode": "overlay",
              "size": 10,
              "solidity": 0.2
             }
            },
            "type": "bar"
           }
          ],
          "barpolar": [
           {
            "marker": {
             "line": {
              "color": "#E5ECF6",
              "width": 0.5
             },
             "pattern": {
              "fillmode": "overlay",
              "size": 10,
              "solidity": 0.2
             }
            },
            "type": "barpolar"
           }
          ],
          "carpet": [
           {
            "aaxis": {
             "endlinecolor": "#2a3f5f",
             "gridcolor": "white",
             "linecolor": "white",
             "minorgridcolor": "white",
             "startlinecolor": "#2a3f5f"
            },
            "baxis": {
             "endlinecolor": "#2a3f5f",
             "gridcolor": "white",
             "linecolor": "white",
             "minorgridcolor": "white",
             "startlinecolor": "#2a3f5f"
            },
            "type": "carpet"
           }
          ],
          "choropleth": [
           {
            "colorbar": {
             "outlinewidth": 0,
             "ticks": ""
            },
            "type": "choropleth"
           }
          ],
          "contour": [
           {
            "colorbar": {
             "outlinewidth": 0,
             "ticks": ""
            },
            "colorscale": [
             [
              0,
              "#0d0887"
             ],
             [
              0.1111111111111111,
              "#46039f"
             ],
             [
              0.2222222222222222,
              "#7201a8"
             ],
             [
              0.3333333333333333,
              "#9c179e"
             ],
             [
              0.4444444444444444,
              "#bd3786"
             ],
             [
              0.5555555555555556,
              "#d8576b"
             ],
             [
              0.6666666666666666,
              "#ed7953"
             ],
             [
              0.7777777777777778,
              "#fb9f3a"
             ],
             [
              0.8888888888888888,
              "#fdca26"
             ],
             [
              1,
              "#f0f921"
             ]
            ],
            "type": "contour"
           }
          ],
          "contourcarpet": [
           {
            "colorbar": {
             "outlinewidth": 0,
             "ticks": ""
            },
            "type": "contourcarpet"
           }
          ],
          "heatmap": [
           {
            "colorbar": {
             "outlinewidth": 0,
             "ticks": ""
            },
            "colorscale": [
             [
              0,
              "#0d0887"
             ],
             [
              0.1111111111111111,
              "#46039f"
             ],
             [
              0.2222222222222222,
              "#7201a8"
             ],
             [
              0.3333333333333333,
              "#9c179e"
             ],
             [
              0.4444444444444444,
              "#bd3786"
             ],
             [
              0.5555555555555556,
              "#d8576b"
             ],
             [
              0.6666666666666666,
              "#ed7953"
             ],
             [
              0.7777777777777778,
              "#fb9f3a"
             ],
             [
              0.8888888888888888,
              "#fdca26"
             ],
             [
              1,
              "#f0f921"
             ]
            ],
            "type": "heatmap"
           }
          ],
          "heatmapgl": [
           {
            "colorbar": {
             "outlinewidth": 0,
             "ticks": ""
            },
            "colorscale": [
             [
              0,
              "#0d0887"
             ],
             [
              0.1111111111111111,
              "#46039f"
             ],
             [
              0.2222222222222222,
              "#7201a8"
             ],
             [
              0.3333333333333333,
              "#9c179e"
             ],
             [
              0.4444444444444444,
              "#bd3786"
             ],
             [
              0.5555555555555556,
              "#d8576b"
             ],
             [
              0.6666666666666666,
              "#ed7953"
             ],
             [
              0.7777777777777778,
              "#fb9f3a"
             ],
             [
              0.8888888888888888,
              "#fdca26"
             ],
             [
              1,
              "#f0f921"
             ]
            ],
            "type": "heatmapgl"
           }
          ],
          "histogram": [
           {
            "marker": {
             "pattern": {
              "fillmode": "overlay",
              "size": 10,
              "solidity": 0.2
             }
            },
            "type": "histogram"
           }
          ],
          "histogram2d": [
           {
            "colorbar": {
             "outlinewidth": 0,
             "ticks": ""
            },
            "colorscale": [
             [
              0,
              "#0d0887"
             ],
             [
              0.1111111111111111,
              "#46039f"
             ],
             [
              0.2222222222222222,
              "#7201a8"
             ],
             [
              0.3333333333333333,
              "#9c179e"
             ],
             [
              0.4444444444444444,
              "#bd3786"
             ],
             [
              0.5555555555555556,
              "#d8576b"
             ],
             [
              0.6666666666666666,
              "#ed7953"
             ],
             [
              0.7777777777777778,
              "#fb9f3a"
             ],
             [
              0.8888888888888888,
              "#fdca26"
             ],
             [
              1,
              "#f0f921"
             ]
            ],
            "type": "histogram2d"
           }
          ],
          "histogram2dcontour": [
           {
            "colorbar": {
             "outlinewidth": 0,
             "ticks": ""
            },
            "colorscale": [
             [
              0,
              "#0d0887"
             ],
             [
              0.1111111111111111,
              "#46039f"
             ],
             [
              0.2222222222222222,
              "#7201a8"
             ],
             [
              0.3333333333333333,
              "#9c179e"
             ],
             [
              0.4444444444444444,
              "#bd3786"
             ],
             [
              0.5555555555555556,
              "#d8576b"
             ],
             [
              0.6666666666666666,
              "#ed7953"
             ],
             [
              0.7777777777777778,
              "#fb9f3a"
             ],
             [
              0.8888888888888888,
              "#fdca26"
             ],
             [
              1,
              "#f0f921"
             ]
            ],
            "type": "histogram2dcontour"
           }
          ],
          "mesh3d": [
           {
            "colorbar": {
             "outlinewidth": 0,
             "ticks": ""
            },
            "type": "mesh3d"
           }
          ],
          "parcoords": [
           {
            "line": {
             "colorbar": {
              "outlinewidth": 0,
              "ticks": ""
             }
            },
            "type": "parcoords"
           }
          ],
          "pie": [
           {
            "automargin": true,
            "type": "pie"
           }
          ],
          "scatter": [
           {
            "fillpattern": {
             "fillmode": "overlay",
             "size": 10,
             "solidity": 0.2
            },
            "type": "scatter"
           }
          ],
          "scatter3d": [
           {
            "line": {
             "colorbar": {
              "outlinewidth": 0,
              "ticks": ""
             }
            },
            "marker": {
             "colorbar": {
              "outlinewidth": 0,
              "ticks": ""
             }
            },
            "type": "scatter3d"
           }
          ],
          "scattercarpet": [
           {
            "marker": {
             "colorbar": {
              "outlinewidth": 0,
              "ticks": ""
             }
            },
            "type": "scattercarpet"
           }
          ],
          "scattergeo": [
           {
            "marker": {
             "colorbar": {
              "outlinewidth": 0,
              "ticks": ""
             }
            },
            "type": "scattergeo"
           }
          ],
          "scattergl": [
           {
            "marker": {
             "colorbar": {
              "outlinewidth": 0,
              "ticks": ""
             }
            },
            "type": "scattergl"
           }
          ],
          "scattermapbox": [
           {
            "marker": {
             "colorbar": {
              "outlinewidth": 0,
              "ticks": ""
             }
            },
            "type": "scattermapbox"
           }
          ],
          "scatterpolar": [
           {
            "marker": {
             "colorbar": {
              "outlinewidth": 0,
              "ticks": ""
             }
            },
            "type": "scatterpolar"
           }
          ],
          "scatterpolargl": [
           {
            "marker": {
             "colorbar": {
              "outlinewidth": 0,
              "ticks": ""
             }
            },
            "type": "scatterpolargl"
           }
          ],
          "scatterternary": [
           {
            "marker": {
             "colorbar": {
              "outlinewidth": 0,
              "ticks": ""
             }
            },
            "type": "scatterternary"
           }
          ],
          "surface": [
           {
            "colorbar": {
             "outlinewidth": 0,
             "ticks": ""
            },
            "colorscale": [
             [
              0,
              "#0d0887"
             ],
             [
              0.1111111111111111,
              "#46039f"
             ],
             [
              0.2222222222222222,
              "#7201a8"
             ],
             [
              0.3333333333333333,
              "#9c179e"
             ],
             [
              0.4444444444444444,
              "#bd3786"
             ],
             [
              0.5555555555555556,
              "#d8576b"
             ],
             [
              0.6666666666666666,
              "#ed7953"
             ],
             [
              0.7777777777777778,
              "#fb9f3a"
             ],
             [
              0.8888888888888888,
              "#fdca26"
             ],
             [
              1,
              "#f0f921"
             ]
            ],
            "type": "surface"
           }
          ],
          "table": [
           {
            "cells": {
             "fill": {
              "color": "#EBF0F8"
             },
             "line": {
              "color": "white"
             }
            },
            "header": {
             "fill": {
              "color": "#C8D4E3"
             },
             "line": {
              "color": "white"
             }
            },
            "type": "table"
           }
          ]
         },
         "layout": {
          "annotationdefaults": {
           "arrowcolor": "#2a3f5f",
           "arrowhead": 0,
           "arrowwidth": 1
          },
          "autotypenumbers": "strict",
          "coloraxis": {
           "colorbar": {
            "outlinewidth": 0,
            "ticks": ""
           }
          },
          "colorscale": {
           "diverging": [
            [
             0,
             "#8e0152"
            ],
            [
             0.1,
             "#c51b7d"
            ],
            [
             0.2,
             "#de77ae"
            ],
            [
             0.3,
             "#f1b6da"
            ],
            [
             0.4,
             "#fde0ef"
            ],
            [
             0.5,
             "#f7f7f7"
            ],
            [
             0.6,
             "#e6f5d0"
            ],
            [
             0.7,
             "#b8e186"
            ],
            [
             0.8,
             "#7fbc41"
            ],
            [
             0.9,
             "#4d9221"
            ],
            [
             1,
             "#276419"
            ]
           ],
           "sequential": [
            [
             0,
             "#0d0887"
            ],
            [
             0.1111111111111111,
             "#46039f"
            ],
            [
             0.2222222222222222,
             "#7201a8"
            ],
            [
             0.3333333333333333,
             "#9c179e"
            ],
            [
             0.4444444444444444,
             "#bd3786"
            ],
            [
             0.5555555555555556,
             "#d8576b"
            ],
            [
             0.6666666666666666,
             "#ed7953"
            ],
            [
             0.7777777777777778,
             "#fb9f3a"
            ],
            [
             0.8888888888888888,
             "#fdca26"
            ],
            [
             1,
             "#f0f921"
            ]
           ],
           "sequentialminus": [
            [
             0,
             "#0d0887"
            ],
            [
             0.1111111111111111,
             "#46039f"
            ],
            [
             0.2222222222222222,
             "#7201a8"
            ],
            [
             0.3333333333333333,
             "#9c179e"
            ],
            [
             0.4444444444444444,
             "#bd3786"
            ],
            [
             0.5555555555555556,
             "#d8576b"
            ],
            [
             0.6666666666666666,
             "#ed7953"
            ],
            [
             0.7777777777777778,
             "#fb9f3a"
            ],
            [
             0.8888888888888888,
             "#fdca26"
            ],
            [
             1,
             "#f0f921"
            ]
           ]
          },
          "colorway": [
           "#636efa",
           "#EF553B",
           "#00cc96",
           "#ab63fa",
           "#FFA15A",
           "#19d3f3",
           "#FF6692",
           "#B6E880",
           "#FF97FF",
           "#FECB52"
          ],
          "font": {
           "color": "#2a3f5f"
          },
          "geo": {
           "bgcolor": "white",
           "lakecolor": "white",
           "landcolor": "#E5ECF6",
           "showlakes": true,
           "showland": true,
           "subunitcolor": "white"
          },
          "hoverlabel": {
           "align": "left"
          },
          "hovermode": "closest",
          "mapbox": {
           "style": "light"
          },
          "paper_bgcolor": "white",
          "plot_bgcolor": "#E5ECF6",
          "polar": {
           "angularaxis": {
            "gridcolor": "white",
            "linecolor": "white",
            "ticks": ""
           },
           "bgcolor": "#E5ECF6",
           "radialaxis": {
            "gridcolor": "white",
            "linecolor": "white",
            "ticks": ""
           }
          },
          "scene": {
           "xaxis": {
            "backgroundcolor": "#E5ECF6",
            "gridcolor": "white",
            "gridwidth": 2,
            "linecolor": "white",
            "showbackground": true,
            "ticks": "",
            "zerolinecolor": "white"
           },
           "yaxis": {
            "backgroundcolor": "#E5ECF6",
            "gridcolor": "white",
            "gridwidth": 2,
            "linecolor": "white",
            "showbackground": true,
            "ticks": "",
            "zerolinecolor": "white"
           },
           "zaxis": {
            "backgroundcolor": "#E5ECF6",
            "gridcolor": "white",
            "gridwidth": 2,
            "linecolor": "white",
            "showbackground": true,
            "ticks": "",
            "zerolinecolor": "white"
           }
          },
          "shapedefaults": {
           "line": {
            "color": "#2a3f5f"
           }
          },
          "ternary": {
           "aaxis": {
            "gridcolor": "white",
            "linecolor": "white",
            "ticks": ""
           },
           "baxis": {
            "gridcolor": "white",
            "linecolor": "white",
            "ticks": ""
           },
           "bgcolor": "#E5ECF6",
           "caxis": {
            "gridcolor": "white",
            "linecolor": "white",
            "ticks": ""
           }
          },
          "title": {
           "x": 0.05
          },
          "xaxis": {
           "automargin": true,
           "gridcolor": "white",
           "linecolor": "white",
           "ticks": "",
           "title": {
            "standoff": 15
           },
           "zerolinecolor": "white",
           "zerolinewidth": 2
          },
          "yaxis": {
           "automargin": true,
           "gridcolor": "white",
           "linecolor": "white",
           "ticks": "",
           "title": {
            "standoff": 15
           },
           "zerolinecolor": "white",
           "zerolinewidth": 2
          }
         }
        },
        "xaxis": {
         "anchor": "y",
         "autorange": true,
         "domain": [
          0,
          1
         ],
         "range": [
          30.427655816300785,
          61.27234418369922
         ],
         "title": {
          "text": "culmen_length_mm"
         },
         "type": "linear"
        },
        "yaxis": {
         "anchor": "x",
         "autorange": true,
         "domain": [
          0,
          1
         ],
         "range": [
          12.449606299212599,
          22.1503937007874
         ],
         "title": {
          "text": "culmen_depth_mm"
         },
         "type": "linear"
        }
       }
      },
      "image/png": "[encoded data removed]",
      "text/html": [
       "<div>                            <div id=\"68474f43-af44-4186-984a-ce883b632052\" class=\"plotly-graph-div\" style=\"height:525px; width:100%;\"></div>            <script type=\"text/javascript\">                require([\"plotly\"], function(Plotly) {                    window.PLOTLYENV=window.PLOTLYENV || {};                                    if (document.getElementById(\"68474f43-af44-4186-984a-ce883b632052\")) {                    Plotly.newPlot(                        \"68474f43-af44-4186-984a-ce883b632052\",                        [{\"customdata\":[[\"Adelie\"],[\"Adelie\"],[\"Adelie\"],[\"Adelie\"],[\"Adelie\"],[\"Adelie\"],[\"Adelie\"],[\"Adelie\"],[\"Adelie\"],[\"Adelie\"],[\"Adelie\"],[\"Adelie\"],[\"Adelie\"],[\"Adelie\"],[\"Adelie\"],[\"Adelie\"],[\"Adelie\"],[\"Adelie\"],[\"Adelie\"],[\"Adelie\"],[\"Adelie\"],[\"Adelie\"],[\"Adelie\"],[\"Adelie\"],[\"Adelie\"],[\"Adelie\"],[\"Adelie\"],[\"Adelie\"],[\"Adelie\"],[\"Adelie\"],[\"Adelie\"],[\"Adelie\"],[\"Adelie\"],[\"Adelie\"],[\"Adelie\"],[\"Adelie\"],[\"Adelie\"],[\"Adelie\"],[\"Adelie\"],[\"Adelie\"],[\"Adelie\"],[\"Adelie\"],[\"Adelie\"],[\"Adelie\"],[\"Adelie\"],[\"Adelie\"],[\"Adelie\"],[\"Adelie\"],[\"Adelie\"],[\"Adelie\"],[\"Adelie\"],[\"Adelie\"],[\"Adelie\"],[\"Adelie\"],[\"Adelie\"],[\"Adelie\"],[\"Adelie\"],[\"Adelie\"],[\"Adelie\"],[\"Adelie\"],[\"Adelie\"],[\"Adelie\"],[\"Adelie\"],[\"Adelie\"],[\"Adelie\"],[\"Adelie\"],[\"Adelie\"],[\"Adelie\"],[\"Adelie\"],[\"Adelie\"],[\"Adelie\"],[\"Adelie\"],[\"Adelie\"],[\"Chinstrap\"],[\"Chinstrap\"],[\"Chinstrap\"],[\"Chinstrap\"],[\"Chinstrap\"],[\"Chinstrap\"],[\"Chinstrap\"],[\"Chinstrap\"],[\"Chinstrap\"],[\"Chinstrap\"],[\"Chinstrap\"],[\"Chinstrap\"],[\"Chinstrap\"],[\"Chinstrap\"],[\"Chinstrap\"],[\"Chinstrap\"],[\"Chinstrap\"],[\"Chinstrap\"],[\"Chinstrap\"],[\"Chinstrap\"],[\"Chinstrap\"],[\"Chinstrap\"],[\"Chinstrap\"],[\"Chinstrap\"],[\"Chinstrap\"],[\"Chinstrap\"],[\"Chinstrap\"],[\"Chinstrap\"],[\"Chinstrap\"],[\"Chinstrap\"],[\"Chinstrap\"],[\"Chinstrap\"],[\"Chinstrap\"],[\"Chinstrap\"],[\"Gentoo\"],[\"Gentoo\"],[\"Gentoo\"],[\"Gentoo\"],[\"Gentoo\"],[\"Gentoo\"],[\"Gentoo\"],[\"Gentoo\"],[\"Gentoo\"],[\"Gentoo\"],[\"Gentoo\"],[\"Gentoo\"],[\"Gentoo\"],[\"Gentoo\"],[\"Gentoo\"],[\"Gentoo\"],[\"Gentoo\"],[\"Gentoo\"],[\"Gentoo\"],[\"Gentoo\"],[\"Gentoo\"],[\"Gentoo\"],[\"Gentoo\"],[\"Gentoo\"],[\"Gentoo\"],[\"Gentoo\"],[\"Gentoo\"],[\"Gentoo\"],[\"Gentoo\"],[\"Gentoo\"],[\"Gentoo\"],[\"Gentoo\"],[\"Gentoo\"],[\"Gentoo\"],[\"Gentoo\"],[\"Gentoo\"],[\"Gentoo\"],[\"Gentoo\"],[\"Gentoo\"],[\"Gentoo\"],[\"Gentoo\"],[\"Gentoo\"],[\"Gentoo\"],[\"Gentoo\"],[\"Gentoo\"],[\"Gentoo\"],[\"Gentoo\"],[\"Gentoo\"],[\"Gentoo\"],[\"Gentoo\"],[\"Gentoo\"],[\"Gentoo\"],[\"Gentoo\"],[\"Gentoo\"],[\"Gentoo\"],[\"Gentoo\"],[\"Gentoo\"],[\"Gentoo\"],[\"Gentoo\"],[\"Gentoo\"],[\"Gentoo\"]],\"hovertemplate\":\"is_female=0<br>culmen_length_mm=%{x}<br>culmen_depth_mm=%{y}<br>species=%{customdata[0]}<extra></extra>\",\"legendgroup\":\"0\",\"marker\":{\"color\":\"#636efa\",\"symbol\":\"circle\"},\"mode\":\"markers\",\"name\":\"0\",\"orientation\":\"v\",\"showlegend\":true,\"x\":[39.1,39.3,39.2,38.6,34.6,42.5,46.0,37.7,38.2,38.8,40.6,40.5,37.2,40.9,39.2,38.8,39.8,40.8,44.1,39.6,41.1,42.3,40.1,42.0,41.4,40.6,37.6,41.3,41.1,41.6,41.1,41.8,39.7,45.8,42.8,37.2,42.1,42.9,35.1,41.3,36.3,38.3,41.1,39.6,40.8,40.3,43.2,41.0,37.8,39.7,38.2,43.2,45.6,42.2,42.7,37.3,41.1,37.7,41.4,40.6,41.5,44.1,43.1,37.5,41.1,40.2,39.7,40.6,40.7,39.0,39.2,37.8,41.5,50.0,51.3,52.7,51.3,51.3,51.7,52.0,50.5,50.3,49.2,48.5,50.6,52.0,49.5,52.8,54.2,51.0,49.7,52.0,53.5,49.0,50.9,50.8,49.0,51.5,51.4,50.7,52.2,49.3,50.2,51.9,55.8,49.6,50.8,50.0,50.0,47.6,46.7,46.8,49.0,48.4,49.3,49.2,48.7,50.2,46.3,46.1,47.8,50.0,47.3,59.6,48.4,44.4,48.7,49.6,49.6,50.5,50.5,45.2,48.5,50.1,45.0,45.5,50.4,46.2,54.3,49.8,49.5,50.7,46.4,48.2,48.6,51.1,45.2,52.5,50.0,50.8,51.3,52.1,52.2,49.5,50.8,49.4,51.1,55.9,49.1,46.8,53.4,48.1,49.8,51.5,55.1,48.8,50.4,49.9],\"xaxis\":\"x\",\"y\":[18.7,20.6,19.6,21.2,21.1,20.7,21.5,18.7,18.1,17.2,18.6,18.9,18.1,18.9,21.1,20.0,19.1,18.4,19.7,18.8,19.0,21.2,18.9,19.5,18.6,18.8,19.1,21.1,18.2,18.0,19.1,19.4,18.4,18.9,18.5,19.4,19.1,17.6,19.4,20.3,19.5,19.2,18.1,18.1,18.9,18.5,18.5,20.0,20.0,18.9,20.0,19.0,20.3,19.5,18.3,20.5,18.6,19.8,18.5,19.0,18.3,18.0,19.2,18.5,17.5,20.1,17.9,17.2,17.0,18.7,18.6,18.1,18.5,19.5,19.2,19.8,18.2,19.9,20.3,18.1,19.6,20.0,18.2,17.5,19.4,19.0,19.0,20.0,20.8,18.8,18.6,20.7,19.9,19.5,19.1,18.5,19.6,18.7,19.0,19.7,18.8,19.9,18.8,19.5,19.8,18.2,19.0,16.3,15.2,14.5,15.3,15.4,16.1,14.6,15.7,15.2,15.1,14.3,15.8,15.1,15.0,15.3,15.3,17.0,16.3,17.3,15.7,16.0,15.0,15.9,15.9,15.8,14.1,15.0,15.4,15.0,15.3,14.9,15.7,16.8,16.2,15.0,15.6,15.6,16.0,16.3,16.4,15.6,15.9,17.3,14.2,17.0,17.1,16.1,15.7,15.8,16.5,17.0,15.0,16.1,15.8,15.1,15.9,16.3,16.0,16.2,15.7,16.1],\"yaxis\":\"y\",\"type\":\"scatter\"},{\"customdata\":[[\"Adelie\"],[\"Adelie\"],[\"Adelie\"],[\"Adelie\"],[\"Adelie\"],[\"Adelie\"],[\"Adelie\"],[\"Adelie\"],[\"Adelie\"],[\"Adelie\"],[\"Adelie\"],[\"Adelie\"],[\"Adelie\"],[\"Adelie\"],[\"Adelie\"],[\"Adelie\"],[\"Adelie\"],[\"Adelie\"],[\"Adelie\"],[\"Adelie\"],[\"Adelie\"],[\"Adelie\"],[\"Adelie\"],[\"Adelie\"],[\"Adelie\"],[\"Adelie\"],[\"Adelie\"],[\"Adelie\"],[\"Adelie\"],[\"Adelie\"],[\"Adelie\"],[\"Adelie\"],[\"Adelie\"],[\"Adelie\"],[\"Adelie\"],[\"Adelie\"],[\"Adelie\"],[\"Adelie\"],[\"Adelie\"],[\"Adelie\"],[\"Adelie\"],[\"Adelie\"],[\"Adelie\"],[\"Adelie\"],[\"Adelie\"],[\"Adelie\"],[\"Adelie\"],[\"Adelie\"],[\"Adelie\"],[\"Adelie\"],[\"Adelie\"],[\"Adelie\"],[\"Adelie\"],[\"Adelie\"],[\"Adelie\"],[\"Adelie\"],[\"Adelie\"],[\"Adelie\"],[\"Adelie\"],[\"Adelie\"],[\"Adelie\"],[\"Adelie\"],[\"Adelie\"],[\"Adelie\"],[\"Adelie\"],[\"Adelie\"],[\"Adelie\"],[\"Adelie\"],[\"Adelie\"],[\"Adelie\"],[\"Adelie\"],[\"Adelie\"],[\"Adelie\"],[\"Chinstrap\"],[\"Chinstrap\"],[\"Chinstrap\"],[\"Chinstrap\"],[\"Chinstrap\"],[\"Chinstrap\"],[\"Chinstrap\"],[\"Chinstrap\"],[\"Chinstrap\"],[\"Chinstrap\"],[\"Chinstrap\"],[\"Chinstrap\"],[\"Chinstrap\"],[\"Chinstrap\"],[\"Chinstrap\"],[\"Chinstrap\"],[\"Chinstrap\"],[\"Chinstrap\"],[\"Chinstrap\"],[\"Chinstrap\"],[\"Chinstrap\"],[\"Chinstrap\"],[\"Chinstrap\"],[\"Chinstrap\"],[\"Chinstrap\"],[\"Chinstrap\"],[\"Chinstrap\"],[\"Chinstrap\"],[\"Chinstrap\"],[\"Chinstrap\"],[\"Chinstrap\"],[\"Chinstrap\"],[\"Chinstrap\"],[\"Chinstrap\"],[\"Gentoo\"],[\"Gentoo\"],[\"Gentoo\"],[\"Gentoo\"],[\"Gentoo\"],[\"Gentoo\"],[\"Gentoo\"],[\"Gentoo\"],[\"Gentoo\"],[\"Gentoo\"],[\"Gentoo\"],[\"Gentoo\"],[\"Gentoo\"],[\"Gentoo\"],[\"Gentoo\"],[\"Gentoo\"],[\"Gentoo\"],[\"Gentoo\"],[\"Gentoo\"],[\"Gentoo\"],[\"Gentoo\"],[\"Gentoo\"],[\"Gentoo\"],[\"Gentoo\"],[\"Gentoo\"],[\"Gentoo\"],[\"Gentoo\"],[\"Gentoo\"],[\"Gentoo\"],[\"Gentoo\"],[\"Gentoo\"],[\"Gentoo\"],[\"Gentoo\"],[\"Gentoo\"],[\"Gentoo\"],[\"Gentoo\"],[\"Gentoo\"],[\"Gentoo\"],[\"Gentoo\"],[\"Gentoo\"],[\"Gentoo\"],[\"Gentoo\"],[\"Gentoo\"],[\"Gentoo\"],[\"Gentoo\"],[\"Gentoo\"],[\"Gentoo\"],[\"Gentoo\"],[\"Gentoo\"],[\"Gentoo\"],[\"Gentoo\"],[\"Gentoo\"],[\"Gentoo\"],[\"Gentoo\"],[\"Gentoo\"],[\"Gentoo\"],[\"Gentoo\"],[\"Gentoo\"]],\"hovertemplate\":\"is_female=1<br>culmen_length_mm=%{x}<br>culmen_depth_mm=%{y}<br>species=%{customdata[0]}<extra></extra>\",\"legendgroup\":\"1\",\"marker\":{\"color\":\"#EF553B\",\"symbol\":\"circle\"},\"mode\":\"markers\",\"name\":\"1\",\"orientation\":\"v\",\"showlegend\":true,\"x\":[39.5,40.3,36.7,38.9,41.1,36.6,38.7,34.4,37.8,35.9,35.3,40.5,37.9,39.5,39.5,36.4,42.2,37.6,36.5,36.0,37.0,36.0,39.6,35.0,34.5,39.0,36.5,35.7,37.6,36.4,35.5,35.9,33.5,39.6,35.5,40.9,36.2,34.6,36.7,37.3,36.9,38.9,35.7,34.0,36.2,38.1,33.1,35.0,37.7,37.9,38.6,38.1,38.1,39.7,39.6,38.6,35.7,36.2,40.2,35.2,38.8,39.0,38.5,36.8,38.1,35.6,37.0,40.2,32.1,37.3,36.6,36.0,36.0,46.5,45.4,45.2,46.1,46.0,46.6,47.0,45.9,58.0,46.4,42.4,43.2,46.7,50.5,46.4,40.9,42.5,47.5,47.6,46.9,46.2,45.5,50.9,50.1,49.8,48.1,45.7,42.5,45.2,45.6,46.8,45.7,43.5,50.2,46.1,48.7,46.5,45.4,43.3,40.9,45.5,45.8,42.0,46.2,45.1,46.5,42.9,48.2,42.8,45.1,49.1,42.6,44.0,42.7,45.3,43.6,45.5,44.9,46.6,45.1,46.5,43.8,43.2,45.3,45.7,45.8,43.5,47.7,46.5,46.4,47.5,45.2,49.1,47.4,44.9,43.4,47.5,47.5,45.5,44.5,46.9,48.4,48.5,47.2,41.7,43.3,50.5,43.5,46.2,47.2,46.8,45.2],\"xaxis\":\"x\",\"y\":[17.4,18.0,19.3,17.8,17.6,17.8,19.0,18.4,18.3,19.2,18.9,17.9,18.6,16.7,17.8,17.0,18.5,19.3,18.0,18.5,16.9,17.9,17.7,17.9,18.1,17.5,16.6,16.9,17.0,17.1,16.2,16.6,19.0,17.2,17.5,16.8,16.1,17.2,18.8,17.8,18.6,18.8,18.0,17.1,17.3,18.6,16.1,17.9,16.0,18.6,17.2,17.0,16.5,17.7,20.7,17.0,17.0,17.2,17.0,15.9,17.6,17.1,17.9,18.5,17.6,17.5,16.5,17.1,15.5,16.8,18.4,17.8,17.1,17.9,18.7,17.8,18.2,18.9,17.8,17.3,17.1,17.8,18.6,17.3,16.6,17.9,18.4,17.8,16.6,16.7,16.8,18.3,16.6,17.5,17.0,17.9,17.9,17.3,16.4,17.3,17.3,16.6,19.4,16.5,17.0,18.1,18.7,13.2,14.1,13.5,14.6,13.4,13.7,13.7,14.6,13.5,14.5,14.5,14.5,13.1,14.3,14.2,14.5,14.8,13.7,13.6,13.7,13.7,13.9,13.9,13.3,14.2,14.4,14.4,13.9,14.5,13.8,13.9,14.2,14.2,15.0,14.8,15.0,14.2,13.8,14.5,14.6,13.8,14.4,14.0,15.0,14.5,14.7,14.6,14.4,15.0,15.5,14.7,14.0,15.2,15.2,14.1,13.7,14.3,14.8],\"yaxis\":\"y\",\"type\":\"scatter\"}],                        {\"template\":{\"data\":{\"histogram2dcontour\":[{\"type\":\"histogram2dcontour\",\"colorbar\":{\"outlinewidth\":0,\"ticks\":\"\"},\"colorscale\":[[0.0,\"#0d0887\"],[0.1111111111111111,\"#46039f\"],[0.2222222222222222,\"#7201a8\"],[0.3333333333333333,\"#9c179e\"],[0.4444444444444444,\"#bd3786\"],[0.5555555555555556,\"#d8576b\"],[0.6666666666666666,\"#ed7953\"],[0.7777777777777778,\"#fb9f3a\"],[0.8888888888888888,\"#fdca26\"],[1.0,\"#f0f921\"]]}],\"choropleth\":[{\"type\":\"choropleth\",\"colorbar\":{\"outlinewidth\":0,\"ticks\":\"\"}}],\"histogram2d\":[{\"type\":\"histogram2d\",\"colorbar\":{\"outlinewidth\":0,\"ticks\":\"\"},\"colorscale\":[[0.0,\"#0d0887\"],[0.1111111111111111,\"#46039f\"],[0.2222222222222222,\"#7201a8\"],[0.3333333333333333,\"#9c179e\"],[0.4444444444444444,\"#bd3786\"],[0.5555555555555556,\"#d8576b\"],[0.6666666666666666,\"#ed7953\"],[0.7777777777777778,\"#fb9f3a\"],[0.8888888888888888,\"#fdca26\"],[1.0,\"#f0f921\"]]}],\"heatmap\":[{\"type\":\"heatmap\",\"colorbar\":{\"outlinewidth\":0,\"ticks\":\"\"},\"colorscale\":[[0.0,\"#0d0887\"],[0.1111111111111111,\"#46039f\"],[0.2222222222222222,\"#7201a8\"],[0.3333333333333333,\"#9c179e\"],[0.4444444444444444,\"#bd3786\"],[0.5555555555555556,\"#d8576b\"],[0.6666666666666666,\"#ed7953\"],[0.7777777777777778,\"#fb9f3a\"],[0.8888888888888888,\"#fdca26\"],[1.0,\"#f0f921\"]]}],\"heatmapgl\":[{\"type\":\"heatmapgl\",\"colorbar\":{\"outlinewidth\":0,\"ticks\":\"\"},\"colorscale\":[[0.0,\"#0d0887\"],[0.1111111111111111,\"#46039f\"],[0.2222222222222222,\"#7201a8\"],[0.3333333333333333,\"#9c179e\"],[0.4444444444444444,\"#bd3786\"],[0.5555555555555556,\"#d8576b\"],[0.6666666666666666,\"#ed7953\"],[0.7777777777777778,\"#fb9f3a\"],[0.8888888888888888,\"#fdca26\"],[1.0,\"#f0f921\"]]}],\"contourcarpet\":[{\"type\":\"contourcarpet\",\"colorbar\":{\"outlinewidth\":0,\"ticks\":\"\"}}],\"contour\":[{\"type\":\"contour\",\"colorbar\":{\"outlinewidth\":0,\"ticks\":\"\"},\"colorscale\":[[0.0,\"#0d0887\"],[0.1111111111111111,\"#46039f\"],[0.2222222222222222,\"#7201a8\"],[0.3333333333333333,\"#9c179e\"],[0.4444444444444444,\"#bd3786\"],[0.5555555555555556,\"#d8576b\"],[0.6666666666666666,\"#ed7953\"],[0.7777777777777778,\"#fb9f3a\"],[0.8888888888888888,\"#fdca26\"],[1.0,\"#f0f921\"]]}],\"surface\":[{\"type\":\"surface\",\"colorbar\":{\"outlinewidth\":0,\"ticks\":\"\"},\"colorscale\":[[0.0,\"#0d0887\"],[0.1111111111111111,\"#46039f\"],[0.2222222222222222,\"#7201a8\"],[0.3333333333333333,\"#9c179e\"],[0.4444444444444444,\"#bd3786\"],[0.5555555555555556,\"#d8576b\"],[0.6666666666666666,\"#ed7953\"],[0.7777777777777778,\"#fb9f3a\"],[0.8888888888888888,\"#fdca26\"],[1.0,\"#f0f921\"]]}],\"mesh3d\":[{\"type\":\"mesh3d\",\"colorbar\":{\"outlinewidth\":0,\"ticks\":\"\"}}],\"scatter\":[{\"fillpattern\":{\"fillmode\":\"overlay\",\"size\":10,\"solidity\":0.2},\"type\":\"scatter\"}],\"parcoords\":[{\"type\":\"parcoords\",\"line\":{\"colorbar\":{\"outlinewidth\":0,\"ticks\":\"\"}}}],\"scatterpolargl\":[{\"type\":\"scatterpolargl\",\"marker\":{\"colorbar\":{\"outlinewidth\":0,\"ticks\":\"\"}}}],\"bar\":[{\"error_x\":{\"color\":\"#2a3f5f\"},\"error_y\":{\"color\":\"#2a3f5f\"},\"marker\":{\"line\":{\"color\":\"#E5ECF6\",\"width\":0.5},\"pattern\":{\"fillmode\":\"overlay\",\"size\":10,\"solidity\":0.2}},\"type\":\"bar\"}],\"scattergeo\":[{\"type\":\"scattergeo\",\"marker\":{\"colorbar\":{\"outlinewidth\":0,\"ticks\":\"\"}}}],\"scatterpolar\":[{\"type\":\"scatterpolar\",\"marker\":{\"colorbar\":{\"outlinewidth\":0,\"ticks\":\"\"}}}],\"histogram\":[{\"marker\":{\"pattern\":{\"fillmode\":\"overlay\",\"size\":10,\"solidity\":0.2}},\"type\":\"histogram\"}],\"scattergl\":[{\"type\":\"scattergl\",\"marker\":{\"colorbar\":{\"outlinewidth\":0,\"ticks\":\"\"}}}],\"scatter3d\":[{\"type\":\"scatter3d\",\"line\":{\"colorbar\":{\"outlinewidth\":0,\"ticks\":\"\"}},\"marker\":{\"colorbar\":{\"outlinewidth\":0,\"ticks\":\"\"}}}],\"scattermapbox\":[{\"type\":\"scattermapbox\",\"marker\":{\"colorbar\":{\"outlinewidth\":0,\"ticks\":\"\"}}}],\"scatterternary\":[{\"type\":\"scatterternary\",\"marker\":{\"colorbar\":{\"outlinewidth\":0,\"ticks\":\"\"}}}],\"scattercarpet\":[{\"type\":\"scattercarpet\",\"marker\":{\"colorbar\":{\"outlinewidth\":0,\"ticks\":\"\"}}}],\"carpet\":[{\"aaxis\":{\"endlinecolor\":\"#2a3f5f\",\"gridcolor\":\"white\",\"linecolor\":\"white\",\"minorgridcolor\":\"white\",\"startlinecolor\":\"#2a3f5f\"},\"baxis\":{\"endlinecolor\":\"#2a3f5f\",\"gridcolor\":\"white\",\"linecolor\":\"white\",\"minorgridcolor\":\"white\",\"startlinecolor\":\"#2a3f5f\"},\"type\":\"carpet\"}],\"table\":[{\"cells\":{\"fill\":{\"color\":\"#EBF0F8\"},\"line\":{\"color\":\"white\"}},\"header\":{\"fill\":{\"color\":\"#C8D4E3\"},\"line\":{\"color\":\"white\"}},\"type\":\"table\"}],\"barpolar\":[{\"marker\":{\"line\":{\"color\":\"#E5ECF6\",\"width\":0.5},\"pattern\":{\"fillmode\":\"overlay\",\"size\":10,\"solidity\":0.2}},\"type\":\"barpolar\"}],\"pie\":[{\"automargin\":true,\"type\":\"pie\"}]},\"layout\":{\"autotypenumbers\":\"strict\",\"colorway\":[\"#636efa\",\"#EF553B\",\"#00cc96\",\"#ab63fa\",\"#FFA15A\",\"#19d3f3\",\"#FF6692\",\"#B6E880\",\"#FF97FF\",\"#FECB52\"],\"font\":{\"color\":\"#2a3f5f\"},\"hovermode\":\"closest\",\"hoverlabel\":{\"align\":\"left\"},\"paper_bgcolor\":\"white\",\"plot_bgcolor\":\"#E5ECF6\",\"polar\":{\"bgcolor\":\"#E5ECF6\",\"angularaxis\":{\"gridcolor\":\"white\",\"linecolor\":\"white\",\"ticks\":\"\"},\"radialaxis\":{\"gridcolor\":\"white\",\"linecolor\":\"white\",\"ticks\":\"\"}},\"ternary\":{\"bgcolor\":\"#E5ECF6\",\"aaxis\":{\"gridcolor\":\"white\",\"linecolor\":\"white\",\"ticks\":\"\"},\"baxis\":{\"gridcolor\":\"white\",\"linecolor\":\"white\",\"ticks\":\"\"},\"caxis\":{\"gridcolor\":\"white\",\"linecolor\":\"white\",\"ticks\":\"\"}},\"coloraxis\":{\"colorbar\":{\"outlinewidth\":0,\"ticks\":\"\"}},\"colorscale\":{\"sequential\":[[0.0,\"#0d0887\"],[0.1111111111111111,\"#46039f\"],[0.2222222222222222,\"#7201a8\"],[0.3333333333333333,\"#9c179e\"],[0.4444444444444444,\"#bd3786\"],[0.5555555555555556,\"#d8576b\"],[0.6666666666666666,\"#ed7953\"],[0.7777777777777778,\"#fb9f3a\"],[0.8888888888888888,\"#fdca26\"],[1.0,\"#f0f921\"]],\"sequentialminus\":[[0.0,\"#0d0887\"],[0.1111111111111111,\"#46039f\"],[0.2222222222222222,\"#7201a8\"],[0.3333333333333333,\"#9c179e\"],[0.4444444444444444,\"#bd3786\"],[0.5555555555555556,\"#d8576b\"],[0.6666666666666666,\"#ed7953\"],[0.7777777777777778,\"#fb9f3a\"],[0.8888888888888888,\"#fdca26\"],[1.0,\"#f0f921\"]],\"diverging\":[[0,\"#8e0152\"],[0.1,\"#c51b7d\"],[0.2,\"#de77ae\"],[0.3,\"#f1b6da\"],[0.4,\"#fde0ef\"],[0.5,\"#f7f7f7\"],[0.6,\"#e6f5d0\"],[0.7,\"#b8e186\"],[0.8,\"#7fbc41\"],[0.9,\"#4d9221\"],[1,\"#276419\"]]},\"xaxis\":{\"gridcolor\":\"white\",\"linecolor\":\"white\",\"ticks\":\"\",\"title\":{\"standoff\":15},\"zerolinecolor\":\"white\",\"automargin\":true,\"zerolinewidth\":2},\"yaxis\":{\"gridcolor\":\"white\",\"linecolor\":\"white\",\"ticks\":\"\",\"title\":{\"standoff\":15},\"zerolinecolor\":\"white\",\"automargin\":true,\"zerolinewidth\":2},\"scene\":{\"xaxis\":{\"backgroundcolor\":\"#E5ECF6\",\"gridcolor\":\"white\",\"linecolor\":\"white\",\"showbackground\":true,\"ticks\":\"\",\"zerolinecolor\":\"white\",\"gridwidth\":2},\"yaxis\":{\"backgroundcolor\":\"#E5ECF6\",\"gridcolor\":\"white\",\"linecolor\":\"white\",\"showbackground\":true,\"ticks\":\"\",\"zerolinecolor\":\"white\",\"gridwidth\":2},\"zaxis\":{\"backgroundcolor\":\"#E5ECF6\",\"gridcolor\":\"white\",\"linecolor\":\"white\",\"showbackground\":true,\"ticks\":\"\",\"zerolinecolor\":\"white\",\"gridwidth\":2}},\"shapedefaults\":{\"line\":{\"color\":\"#2a3f5f\"}},\"annotationdefaults\":{\"arrowcolor\":\"#2a3f5f\",\"arrowhead\":0,\"arrowwidth\":1},\"geo\":{\"bgcolor\":\"white\",\"landcolor\":\"#E5ECF6\",\"subunitcolor\":\"white\",\"showland\":true,\"showlakes\":true,\"lakecolor\":\"white\"},\"title\":{\"x\":0.05},\"mapbox\":{\"style\":\"light\"}}},\"xaxis\":{\"anchor\":\"y\",\"domain\":[0.0,1.0],\"title\":{\"text\":\"culmen_length_mm\"}},\"yaxis\":{\"anchor\":\"x\",\"domain\":[0.0,1.0],\"title\":{\"text\":\"culmen_depth_mm\"}},\"legend\":{\"title\":{\"text\":\"is_female\"},\"tracegroupgap\":0},\"margin\":{\"t\":60}},                        {\"responsive\": true}                    ).then(function(){\n",
       "                            \n",
       "var gd = document.getElementById('68474f43-af44-4186-984a-ce883b632052');\n",
       "var x = new MutationObserver(function (mutations, observer) {{\n",
       "        var display = window.getComputedStyle(gd).display;\n",
       "        if (!display || display === 'none') {{\n",
       "            console.log([gd, 'removed!']);\n",
       "            Plotly.purge(gd);\n",
       "            observer.disconnect();\n",
       "        }}\n",
       "}});\n",
       "\n",
       "// Listen for the removal of the full notebook cells\n",
       "var notebookContainer = gd.closest('#notebook-container');\n",
       "if (notebookContainer) {{\n",
       "    x.observe(notebookContainer, {childList: true});\n",
       "}}\n",
       "\n",
       "// Listen for the clearing of the current output cell\n",
       "var outputEl = gd.closest('.output');\n",
       "if (outputEl) {{\n",
       "    x.observe(outputEl, {childList: true});\n",
       "}}\n",
       "\n",
       "                        })                };                });            </script>        </div>"
      ]
     },
     "metadata": {},
     "output_type": "display_data"
    }
   ],
   "source": [
    "px.scatter(\n",
    "    data_frame=penguins,\n",
    "    x=\"culmen_length_mm\",\n",
    "    y=\"culmen_depth_mm\",\n",
    "    color=\"is_female\",\n",
    "    hover_data={\n",
    "        \"species\": True\n",
    "    }\n",
    ")"
   ]
  },
  {
   "cell_type": "markdown",
   "id": "b283cbd7-5e6d-41ea-a8d2-0129025f81f4",
   "metadata": {},
   "source": [
    "## Preprocessing"
   ]
  },
  {
   "cell_type": "code",
   "execution_count": null,
   "id": "842c589e-d7b1-4c02-9850-123925e9adb6",
   "metadata": {},
   "outputs": [],
   "source": [
    "# Separate the predictors and target\n",
    "# Convention: call the thing we want to predict 'y'\n",
    "\n",
    "y = penguins[\"species\"]"
   ]
  }
 ],
 "metadata": {
  "kernelspec": {
   "display_name": "data-start-4BdIRh-U",
   "language": "python",
   "name": "data-start-4bdirh-u"
  },
  "language_info": {
   "codemirror_mode": {
    "name": "ipython",
    "version": 3
   },
   "file_extension": ".py",
   "mimetype": "text/x-python",
   "name": "python",
   "nbconvert_exporter": "python",
   "pygments_lexer": "ipython3",
   "version": "3.10.0"
  }
 },
 "nbformat": 4,
 "nbformat_minor": 5
}
